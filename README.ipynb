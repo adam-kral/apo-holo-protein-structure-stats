{
 "cells": [
  {
   "cell_type": "code",
   "execution_count": 1,
   "metadata": {
    "pycharm": {
     "name": "#%%\n"
    }
   },
   "outputs": [],
   "source": [
    "# render that way:\n",
    "# python -m jupyter nbconvert --execute --to markdown --TemplateExporter.exclude_input=True --output README README.ipynb"
   ]
  },
  {
   "cell_type": "markdown",
   "metadata": {
    "pycharm": {
     "name": "#%% md\n"
    }
   },
   "source": [
    "# apo-holo-protein-structure-stats\n",
    "\n",
    "The purpose of this project is to provide a framework for the comparison of protein structures, namely apo and holo forms\n",
    "of a protein chain.\n",
    "\n",
    "Apo and holo forms of a protein are the protein in the absence and presence of a ligand, respectively. The ligand is\n",
    "usually a small molecule that binds to the protein and can be a drug, a cofactor, or a substrate. It stabilizes the\n",
    "protein in a particular structure (conformation), which can alter the protein's activity.\n",
    "\n",
    "The pipeline downloads the protein structures, filters them (by the resolution for example), detects ligand presence\n",
    "pairs apo and holo chains with identical sequence, and finally runs analyses such as the RMSD between apo and holo forms,\n",
    "secondary structure identity, or measures the domain motions.\n",
    "\n",
    "## Table of contents\n",
    "- [Installation](#installation)\n",
    "- [Usage](#usage)\n",
    "   - [Customization](#customization)\n",
    "   - [Scripts](#scripts)\n",
    "   - [Try out the whole pipeline](#try-out-the-whole-pipeline)\n",
    "- [Results](#results)\n",
    "\n",
    "## Installation\n",
    "- Clone the repository `git clone https://github.com/adam-kral/apo-holo-protein-structure-stats.git`\n",
    "- Create and activate a virtual environment named 'venv' with Python >= 3.8:\n",
    "    - `python3 -m venv venv`\n",
    "    - `source venv/bin/activate` on Unix or `venv\\Scripts\\activate.bat` on Windows\n",
    "- Install this project `pip install /path/to/repository_root`\n",
    "\n",
    "This will install the packages as well as the scripts (see below) into the virtual environment. With the virtual environment activated, you can then import this project in your code, and run the scripts in shell anywhere in your system.\n",
    "\n",
    "## Usage\n",
    "The pipeline consists of six scripts implementing the multistep pipeline as in the flowchart below.\n",
    "\n",
    "![Apo-holo pipeline](apo-holo-pipeline.png \"Apo-holo pipeline\")\n",
    "\n",
    "See how to run the whole pipeline [below](#try-out-the-whole-pipeline).\n",
    "\n",
    "### Customization\n",
    "\n",
    "The constants of the default implementation (minimum resolution, ligand definition, etc.) are customizable, by\n",
    "settings env var `AH_SETTINGS_FILE` with path to the settings yaml file. See\n",
    "[settings module](apo_holo_structure_stats/settings.py),\n",
    "[sample_settings.yaml](apo_holo_structure_stats/sample_settings.yaml).\n",
    "\n",
    "Filtering logic, adding columns to the json output such as ligand binding state; pairing logic, (todo analysis logic)\n",
    "are all customizable, also beyond pairing and comparing _apo-holo_ chains. Set `Settings.FILTER_STRUCTURES_CLASS`, or `Settings.MAKE_PAIRS_CLASS` to your subclass of\n",
    "the default implementation. See [ah-filter-structures module](apo_holo_structure_stats/pipeline/filter_structures.py),\n",
    "[ah-make-pairs module](apo_holo_structure_stats/pipeline/make_pairs_lcs.py).\n",
    "\n",
    "You can import from the `apo_holo_structure_stats` in your code.\n",
    "\n",
    "### Scripts\n",
    "The description of the pipeline scripts will follow.\n",
    "\n",
    "Arguments for the scripts can be shown by running the script with `--help` flag."
   ]
  },
  {
   "cell_type": "code",
   "execution_count": 11,
   "metadata": {
    "pycharm": {
     "name": "#%%\n"
    }
   },
   "outputs": [],
   "source": [
    "from apo_holo_structure_stats.pipeline import (\n",
    "    chains_for_uniprot_ids,\n",
    "    download_structures,\n",
    "    filter_structures,\n",
    "    make_pairs_lcs,\n",
    "    run_1struct_analyses,\n",
    "    run_analyses,\n",
    ")\n",
    "\n",
    "from IPython.display import display, Markdown\n",
    "\n",
    "def show_descr(script_module):\n",
    "    if script_module.parser.description:\n",
    "        display(Markdown(script_module.parser.description))\n",
    "\n",
    "    if script_module.parser.epilog:\n",
    "        display(Markdown(script_module.parser.epilog))"
   ]
  },
  {
   "cell_type": "markdown",
   "source": [
    "#### ah-chains-uniprot"
   ],
   "metadata": {
    "collapsed": false,
    "pycharm": {
     "name": "#%% md\n"
    }
   }
  },
  {
   "cell_type": "code",
   "execution_count": 3,
   "metadata": {
    "pycharm": {
     "name": "#%%\n"
    }
   },
   "outputs": [
    {
     "data": {
      "text/plain": "<IPython.core.display.Markdown object>",
      "text/markdown": "Collect PDB chains with their uniprot ids."
     },
     "metadata": {},
     "output_type": "display_data"
    },
    {
     "data": {
      "text/plain": "<IPython.core.display.Markdown object>",
      "text/markdown": "By default all PDB chains are collected (which are in the SIFTS service).\nOutput fields are: pdb_code, chain_id, uniprotkb_id, uniprot_group_size\n    where uniprot_group_size is the number of chains in the PDB that have the same uniprot id.\n\nData are obtained from SIFTS' uniprot_segments_observed.csv file.\n\nUsage:\n    ah-chains-uniprot chains.json\n    ah-chains-uniprot --chains <chains_without_uniprot>.json chains.json\n    ah-chains-uniprot --uniprot_ids P12345,P12346 chains.json\n    ah-chains-uniprot --limit_group_size_to 10 --seed 42 chains.json\n"
     },
     "metadata": {},
     "output_type": "display_data"
    }
   ],
   "source": [
    "show_descr(chains_for_uniprot_ids)"
   ]
  },
  {
   "cell_type": "markdown",
   "source": [
    "#### ah-download-structures"
   ],
   "metadata": {
    "collapsed": false,
    "pycharm": {
     "name": "#%% md\n"
    }
   }
  },
  {
   "cell_type": "code",
   "execution_count": 4,
   "outputs": [
    {
     "data": {
      "text/plain": "<IPython.core.display.Markdown object>",
      "text/markdown": "Download structures from the PDB."
     },
     "metadata": {},
     "output_type": "display_data"
    },
    {
     "data": {
      "text/plain": "<IPython.core.display.Markdown object>",
      "text/markdown": "Files will be downloaded to the Settings.STRUCTURE_STORAGE_DIRECTORY.\nOther scripts will automatically use this directory for loading the structures.\n\nUsage:\n    ah-download-structures -v --workers 10 chains.json  \n     ah-download-structures -v -i pdb_codes 1abc,2abc                                             \n"
     },
     "metadata": {},
     "output_type": "display_data"
    }
   ],
   "source": [
    "show_descr(download_structures)"
   ],
   "metadata": {
    "collapsed": false,
    "pycharm": {
     "name": "#%%\n"
    }
   }
  },
  {
   "cell_type": "markdown",
   "source": [
    "#### ah-filter-structures"
   ],
   "metadata": {
    "collapsed": false,
    "pycharm": {
     "name": "#%% md\n"
    }
   }
  },
  {
   "cell_type": "code",
   "execution_count": 5,
   "outputs": [
    {
     "data": {
      "text/plain": "<IPython.core.display.Markdown object>",
      "text/markdown": "  Filters structures and extracts metadata using the parsed mmcif structures.\n\nTo modify the script functionality, you can inherit class StructureProcessor. "
     },
     "metadata": {},
     "output_type": "display_data"
    },
    {
     "data": {
      "text/plain": "<IPython.core.display.Markdown object>",
      "text/markdown": "To modify the script functionality, you can inherit class StructureProcessor (see its docstring), and then set \nSettings.FILTER_STRUCTURES_CLASS to your descendant. \n\nThe structures and chains are (by default) filtered according to the following criteria:\n- only structures with resolution <= Settings.MIN_STRUCTURE_RESOLUTION are kept\n    - where there must be a field \"_refine.ls_d_res_high\", \"_refine_hist.d_res_high\", or \n    \"_em_3d_reconstruction.resolution\" in the mmcif set\n    - therefore the kept structures are only X-ray or EM structures\n- (chains with microheterogeneity in the sequence are skipped) https://mmcif.wwpdb.org/dictionaries/mmcif_std.dic/Categories/entity_poly_seq.html\n- only chains with at least Settings.MIN_OBSERVED_RESIDUES_FOR_CHAIN amino acid residues are kept\n\nThe metadata about the chains are added to the JSON file with the following fields (by default):\n- `sequence` of the chain is retrieved from the mmcif file (3-letter codes); used in ah-make-pairs\n- `is_holo` is true if the chain has ligand bound to it (see Settings.LigandSpec); used in ah-make-pairs\n- (`resolution`, `_exptl.method`, and `path` to the file)\n\nUsage:\n    ah-filter-structures.py -v chains.json filtered_chains.json                         \n"
     },
     "metadata": {},
     "output_type": "display_data"
    }
   ],
   "source": [
    "show_descr(filter_structures)"
   ],
   "metadata": {
    "collapsed": false,
    "pycharm": {
     "name": "#%%\n"
    }
   }
  },
  {
   "cell_type": "markdown",
   "source": [
    "#### ah-make-pairs"
   ],
   "metadata": {
    "collapsed": false,
    "pycharm": {
     "name": "#%% md\n"
    }
   }
  },
  {
   "cell_type": "code",
   "execution_count": 6,
   "outputs": [
    {
     "data": {
      "text/plain": "<IPython.core.display.Markdown object>",
      "text/markdown": " Pair chains for subsequent structural analyses of the pairs.\n\nDefault impl. computes the longest common substring for all potential apo-holo pairs within a uniprot accession.\n"
     },
     "metadata": {},
     "output_type": "display_data"
    },
    {
     "data": {
      "text/plain": "<IPython.core.display.Markdown object>",
      "text/markdown": "To modify the behavior of this script, set Settings.MAKE_PAIRS_CLASS to your subclass of Matchmaker.\n\nCreates JSON with records for each potential pair (within a uniprot accesion) with fields:\n- pdb_code_apo, chain_id_apo, pdb_code_holo, chain_id_holo, lcs_result (see LCSResult class)\n- use `load_pairs_json` to load the JSON into a pandas.DataFrame and `pairs_without_mismatches` to filter out\npotential pairs with mismatches leading or trailing the LCS.\n\n"
     },
     "metadata": {},
     "output_type": "display_data"
    }
   ],
   "source": [
    "show_descr(make_pairs_lcs)"
   ],
   "metadata": {
    "collapsed": false,
    "pycharm": {
     "name": "#%%\n"
    }
   }
  },
  {
   "cell_type": "markdown",
   "source": [
    "#### ah-run-1struct-analyses"
   ],
   "metadata": {
    "collapsed": false,
    "pycharm": {
     "name": "#%% md\n"
    }
   }
  },
  {
   "cell_type": "code",
   "execution_count": 7,
   "outputs": [
    {
     "data": {
      "text/plain": "<IPython.core.display.Markdown object>",
      "text/markdown": " Obtain domains and secondary structure for (the already paired) structures.\n\nThis script obtains it, given the pdb_codes in the pairs json,  using the pdbe-kb API.\nIt is not extensible (but could be), currently\nusers are expected to use their data gathering scripts to obtain additional data they need in run_analyses.py.\n\nThere are much fewer apo-holo paired structures than the whole pdb and the APIs \"rely on user restraint\".\n"
     },
     "metadata": {},
     "output_type": "display_data"
    },
    {
     "data": {
      "text/plain": "<IPython.core.display.Markdown object>"
     },
     "metadata": {},
     "output_type": "display_data"
    }
   ],
   "source": [
    "show_descr(run_1struct_analyses)"
   ],
   "metadata": {
    "collapsed": false,
    "pycharm": {
     "name": "#%%\n"
    }
   }
  },
  {
   "cell_type": "markdown",
   "source": [
    "#### ah-run-analyses"
   ],
   "metadata": {
    "collapsed": false,
    "pycharm": {
     "name": "#%% md\n"
    }
   }
  },
  {
   "cell_type": "code",
   "execution_count": 8,
   "outputs": [
    {
     "data": {
      "text/plain": "<IPython.core.display.Markdown object>",
      "text/markdown": "Compares chains given the pairs."
     },
     "metadata": {},
     "output_type": "display_data"
    },
    {
     "data": {
      "text/plain": "<IPython.core.display.Markdown object>",
      "text/markdown": "Currently not extensible. Users can write their own script, similar to this one, or redefine configure_pipeline function for smaller changes."
     },
     "metadata": {},
     "output_type": "display_data"
    }
   ],
   "source": [
    "show_descr(run_analyses)"
   ],
   "metadata": {
    "collapsed": false,
    "pycharm": {
     "name": "#%%\n"
    }
   }
  },
  {
   "cell_type": "markdown",
   "source": [],
   "metadata": {
    "collapsed": false,
    "pycharm": {
     "name": "#%% md\n"
    }
   }
  },
  {
   "cell_type": "markdown",
   "metadata": {
    "pycharm": {
     "name": "#%% md\n"
    }
   },
   "source": [
    "\n",
    "### Try out the whole pipeline\n",
    "```shell script\n",
    "ah-chains-uniprot -v --uniprot_ids P14735 chains.json\n",
    "ah-download-structures -v --threads 6 chains.json\n",
    "ah-filter-structures -v --workers 4 chains.json filtered_chains.json\n",
    "ah-make-pairs -v --workers 4 filtered_chains.json pairs.json\n",
    "ah-run-1struct-analyses -v pairs.json\n",
    "ah-run-analyses -v pairs.json\n",
    "```\n"
   ]
  },
  {
   "cell_type": "markdown",
   "source": [
    "## Results\n",
    "- reproducing the paper + citation (also into)\n",
    "- verifying (notebook link)\n",
    "- results on whole pdb gzip json link\n",
    "- notebook link whole pdb + todo refactor\n",
    "\n",
    "[verifying](apo_holo_structure_stats/paper_repl/paper_plots.ipynb) of reproducing [Brylinski and Skolnick (2008)](https://doi.org/10.1002/prot.21510)\n",
    "First, we reproduced the results of [Brylinski and Skolnick (2008)](https://doi.org/10.1002/prot.21510), <sup>[pdf](http://cssb.biology.gatech.edu/skolnick/publications/pdffiles/273.pdf)</sup>. Next, we obtained the results for the up-to-date PDB.\n",
    "\n",
    "todo detailed - what is measured, ligand definition etc. (copy from thesis? Add link to a pdf with this info?)"
   ],
   "metadata": {
    "collapsed": false,
    "pycharm": {
     "name": "#%% md\n"
    }
   }
  }
 ],
 "metadata": {
  "kernelspec": {
   "display_name": "Python 3 (ipykernel)",
   "language": "python",
   "name": "python3"
  },
  "language_info": {
   "codemirror_mode": {
    "name": "ipython",
    "version": 3
   },
   "file_extension": ".py",
   "mimetype": "text/x-python",
   "name": "python",
   "nbconvert_exporter": "python",
   "pygments_lexer": "ipython3",
   "version": "3.8.13"
  }
 },
 "nbformat": 4,
 "nbformat_minor": 1
}