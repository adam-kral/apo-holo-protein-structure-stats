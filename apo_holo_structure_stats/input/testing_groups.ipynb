{
 "cells": [
  {
   "cell_type": "code",
   "execution_count": 2,
   "metadata": {
    "collapsed": true,
    "pycharm": {
     "name": "#%%\n"
    }
   },
   "outputs": [],
   "source": [
    "import random\n",
    "import pandas as pd\n",
    "\n",
    "from uniprot_groups import get_basic_uniprot_groups__df\n",
    "\n",
    "chains = get_basic_uniprot_groups__df()\n",
    "groups = chains.groupby('uniprotkb_id').size()\n"
   ]
  },
  {
   "cell_type": "code",
   "execution_count": 3,
   "outputs": [],
   "source": [
    "def get_uniprot_testing_uniprot_groups(chains, n):\n",
    "    random.seed(42)\n",
    "    sampled_groups = random.sample(list(chains['uniprotkb_id'].unique()), n)\n",
    "    sampled_chains = chains[chains.uniprotkb_id.isin(sampled_groups)]\n",
    "    print('total structs', sampled_chains['pdb_code'].nunique())\n",
    "    print('total chains', len(sampled_chains))\n",
    "    print(sampled_chains.describe(include='all'))\n",
    "    print(sampled_chains.columns)\n",
    "    return sampled_chains"
   ],
   "metadata": {
    "collapsed": false,
    "pycharm": {
     "name": "#%%\n"
    }
   }
  },
  {
   "cell_type": "markdown",
   "source": [],
   "metadata": {
    "collapsed": false,
    "pycharm": {
     "name": "#%% md\n"
    }
   }
  },
  {
   "cell_type": "markdown",
   "source": [],
   "metadata": {
    "collapsed": false,
    "pycharm": {
     "name": "#%% md\n"
    }
   }
  },
  {
   "cell_type": "code",
   "execution_count": 13,
   "outputs": [
    {
     "name": "stdout",
     "output_type": "stream",
     "text": [
      "total structs 47340\n",
      "total chains 132756\n",
      "       uniprotkb_id pdb_code chain_id  uniprot_group_size\n",
      "count        132756   132756   132746       132756.000000\n",
      "unique        10000    47340     2456                 NaN\n",
      "top          Q79791     3j3q        A                 NaN\n",
      "freq           2582     1356    38179                 NaN\n",
      "mean            NaN      NaN      NaN          207.225105\n",
      "std             NaN      NaN      NaN          440.142110\n",
      "min             NaN      NaN      NaN            2.000000\n",
      "25%             NaN      NaN      NaN           11.000000\n",
      "50%             NaN      NaN      NaN           42.000000\n",
      "75%             NaN      NaN      NaN          188.000000\n",
      "max             NaN      NaN      NaN         2582.000000\n",
      "Index(['uniprotkb_id', 'pdb_code', 'chain_id', 'uniprot_group_size'], dtype='object')\n"
     ]
    }
   ],
   "source": [
    "sampled_chains = get_uniprot_testing_uniprot_groups(chains, 10000)"
   ],
   "metadata": {
    "collapsed": false,
    "pycharm": {
     "name": "#%%\n"
    }
   }
  },
  {
   "cell_type": "code",
   "execution_count": 14,
   "outputs": [
    {
     "name": "stdout",
     "output_type": "stream",
     "text": [
      "       uniprotkb_id pdb_code chain_id  uniprot_group_size\n",
      "764465       P12493     6x63      NaN                 554\n",
      "73633        P62666     6bok      NaN                  41\n",
      "99228        B2J6D9     6zvt      NaN                 610\n",
      "99412        B2J6D9     6zw5      NaN                 610\n",
      "212623       B2J6D9     6zw7      NaN                 610\n",
      "323482       B2J6D9     6zvr      NaN                 610\n",
      "324294       B2J6D9     6zw6      NaN                 610\n",
      "546806       B2J6D9     6zvs      NaN                 610\n",
      "546992       B2J6D9     6zw4      NaN                 610\n",
      "106040       P07123     7eyd      NaN                   8\n"
     ]
    }
   ],
   "source": [
    "# NaN chain_ids have some large new structures (two letters/chain, but that's already in the dataset too?)\n",
    "print(sampled_chains[pd.isna(sampled_chains.chain_id)])\n",
    "sampled_chains = sampled_chains.dropna()"
   ],
   "metadata": {
    "collapsed": false,
    "pycharm": {
     "name": "#%%\n"
    }
   }
  },
  {
   "cell_type": "code",
   "execution_count": 15,
   "outputs": [
    {
     "name": "stdout",
     "output_type": "stream",
     "text": [
      "pdb_code  chain_id\n",
      "1m7t      A           2\n",
      "1mow      A           2\n",
      "          D           2\n",
      "          G           2\n",
      "          J           2\n",
      "                     ..\n",
      "7cyy      F           2\n",
      "7mvs      A           2\n",
      "          B           2\n",
      "7rxc      B           2\n",
      "7rxd      B           2\n",
      "Length: 195, dtype: int64\n"
     ]
    }
   ],
   "source": [
    "\n",
    "# primary vs secondary accession? (When UNP split?) I should have that chain in all groups.\n",
    "uniprot_counts_for_one_chain = sampled_chains.groupby(['pdb_code', 'chain_id']).size()\n",
    "print(uniprot_counts_for_one_chain[uniprot_counts_for_one_chain > 1])"
   ],
   "metadata": {
    "collapsed": false,
    "pycharm": {
     "name": "#%%\n"
    }
   }
  },
  {
   "cell_type": "markdown",
   "source": [
    "Looks like mostly chimeras/hybrid?\n",
    "\n",
    "Is there primary vs secondary? Probably not. No idea, how many, but that has a good reason.\n",
    "When merged, the original is primary (how often?) And is this csv a list of strictly primaries?\n",
    "When demerged, new is primary, that's good (probably had good reason to demerge/split).\n",
    "We wouldn't compare structures across organisms, as they have different UNP accessions (reference?) (how probable is that they also have different sequence?)\n"
   ],
   "metadata": {
    "collapsed": false,
    "pycharm": {
     "name": "#%% md\n"
    }
   }
  },
  {
   "cell_type": "markdown",
   "source": [
    "## Uniprot Group sizes"
   ],
   "metadata": {
    "collapsed": false,
    "pycharm": {
     "name": "#%% md\n"
    }
   }
  },
  {
   "cell_type": "code",
   "execution_count": 16,
   "outputs": [
    {
     "name": "stdout",
     "output_type": "stream",
     "text": [
      "       uniprotkb_id pdb_code chain_id  uniprot_group_size\n",
      "count        570213   570213   570167       570213.000000\n",
      "unique        43626   165461     3170                 NaN\n",
      "top          Q79791     3j3q        A                 NaN\n",
      "freq           2582     1356   158504                 NaN\n",
      "mean            NaN      NaN      NaN          155.075631\n",
      "std             NaN      NaN      NaN          299.413252\n",
      "min             NaN      NaN      NaN            2.000000\n",
      "25%             NaN      NaN      NaN           11.000000\n",
      "50%             NaN      NaN      NaN           36.000000\n",
      "75%             NaN      NaN      NaN          158.000000\n",
      "max             NaN      NaN      NaN         2582.000000\n"
     ]
    },
    {
     "data": {
      "text/plain": "count    43626.000000\nmean        13.070485\nstd         43.082697\nmin          2.000000\n25%          2.000000\n50%          4.000000\n75%         10.000000\nmax       2582.000000\ndtype: float64"
     },
     "execution_count": 16,
     "metadata": {},
     "output_type": "execute_result"
    }
   ],
   "source": [
    "print(chains.describe(include='all'))\n",
    "groups.describe()\n",
    "# todo v chain_id je nekdy NONE?"
   ],
   "metadata": {
    "collapsed": false,
    "pycharm": {
     "name": "#%%\n"
    }
   }
  },
  {
   "cell_type": "code",
   "execution_count": 31,
   "outputs": [
    {
     "data": {
      "text/plain": "<Figure size 432x288 with 1 Axes>",
      "image/png": "[encoded data removed]"
     },
     "metadata": {
      "needs_background": "light"
     },
     "output_type": "display_data"
    }
   ],
   "source": [
    "from matplotlib import pyplot as plt, ticker\n",
    "import numpy as np\n",
    "import seaborn as sns\n",
    "\n",
    "ax = sns.ecdfplot(groups)\n",
    "ax.set(xlim=(0, 100))\n",
    "plt.axhline(np.max(ax.lines[0].get_ydata()))\n",
    "plt.grid()\n",
    "ax.yaxis.set_major_locator(ticker.MultipleLocator(0.05))\n",
    "# ax.yaxis.set_major_formatter(ticker.PercentFormatter())"
   ],
   "metadata": {
    "collapsed": false,
    "pycharm": {
     "name": "#%%\n"
    }
   }
  },
  {
   "cell_type": "markdown",
   "source": [
    "95% of groups are of size <=40"
   ],
   "metadata": {
    "collapsed": false,
    "pycharm": {
     "name": "#%% md\n"
    }
   }
  },
  {
   "cell_type": "code",
   "execution_count": 32,
   "outputs": [
    {
     "data": {
      "text/plain": "uniprotkb_id\nA0A024B7W1    166\nA0A059T4A1    110\nA0A068EP60    270\nA0A0A7HR51    138\nA0A0H2ZD27    128\n             ... \nQ9Y3Z3        276\nQ9Y9L0        200\nQ9Z9H5        387\nR4NN21        130\nX5MEI1        112\nLength: 738, dtype: int64"
     },
     "execution_count": 32,
     "metadata": {},
     "output_type": "execute_result"
    }
   ],
   "source": [
    "# todo same cdf of chains"
   ],
   "metadata": {
    "collapsed": false,
    "pycharm": {
     "name": "#%%\n"
    }
   }
  },
  {
   "cell_type": "code",
   "execution_count": null,
   "outputs": [],
   "source": [],
   "metadata": {
    "collapsed": false,
    "pycharm": {
     "name": "#%%\n"
    }
   }
  }
 ],
 "metadata": {
  "kernelspec": {
   "display_name": "Python 3",
   "language": "python",
   "name": "python3"
  },
  "language_info": {
   "codemirror_mode": {
    "name": "ipython",
    "version": 2
   },
   "file_extension": ".py",
   "mimetype": "text/x-python",
   "name": "python",
   "nbconvert_exporter": "python",
   "pygments_lexer": "ipython2",
   "version": "2.7.6"
  }
 },
 "nbformat": 4,
 "nbformat_minor": 0
}