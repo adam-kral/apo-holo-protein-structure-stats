{
 "cells": [
  {
   "cell_type": "code",
   "execution_count": 11,
   "metadata": {},
   "outputs": [],
   "source": [
    "import json\n",
    "from collections import defaultdict\n",
    "from dataclasses import dataclass\n",
    "import numpy as np\n",
    "\n",
    "import seaborn as sns\n",
    "\n",
    "analyses_output_filename = 'output_apo_holo_2021-10-26T13:19:06.306504.json'\n",
    "domain_info_filename = 'output_domains_info2021-10-26T13:19:06.306504.json'\n",
    "\n",
    "import pandas as pd\n",
    "\n",
    "with open(analyses_output_filename) as f:\n",
    "    analyses_json = json.load(f)\n",
    "\n",
    "analyses_output = defaultdict(list)\n",
    "\n",
    "for obj in analyses_json:\n",
    "    def tuple_it(l):\n",
    "        if isinstance(l, list):\n",
    "            return tuple(map(tuple_it, l))\n",
    "        else:\n",
    "            return l\n",
    "\n",
    "    obj['args'] = tuple_it(obj['args'])  # json converted all my tuples to lists... won't work with hashing for joins..\n",
    "    analyses_output[obj['level_tag']].append(obj)\n",
    "\n",
    "analyses_dfs = {}\n",
    "# convert analyses outputs to DataFrames\n",
    "for k in analyses_output:\n",
    "    analyses_dfs[k] = pd.DataFrame(analyses_output[k])\n",
    "\n",
    "# analyses_output = pd.read_json(analyses_output_filename)\n",
    "domain_info = pd.read_json(domain_info_filename)\n",
    "domain_info['chain'] = list(zip(domain_info.pdb_code, domain_info.chain_id))\n",
    "\n",
    "\n",
    "def unfold_tuple_to_columns(series_or_df_with_tuple_column, new_column_names, column_name=None):\n",
    "    \"\"\" Unfolds a column `column_name` with tuples and adds the unfolded series as new columns.\n",
    "    Original column of tuples unchanged. \"\"\"\n",
    "    to_unfold = series_or_df_with_tuple_column\n",
    "\n",
    "    if isinstance(series_or_df_with_tuple_column, pd.DataFrame):\n",
    "        assert column_name is not None\n",
    "        to_unfold = series_or_df_with_tuple_column[column_name]\n",
    "\n",
    "    unfolded_cols = to_unfold.apply(pd.Series)\n",
    "    unfolded_cols.columns = new_column_names\n",
    "    return pd.concat([series_or_df_with_tuple_column, unfolded_cols], axis=1)\n",
    "\n",
    "\n",
    "\n",
    "\n",
    "# with open(domain_info_filename) as f:\n",
    "#     domain_info = json.load(f)"
   ]
  },
  {
   "cell_type": "markdown",
   "source": [
    "get apo-holo pairs\n",
    "jinak nevim, co patri k sobe\n",
    "treba z toho analyses_output,"
   ],
   "metadata": {
    "collapsed": false,
    "pycharm": {
     "name": "#%% md\n"
    }
   }
  },
  {
   "cell_type": "code",
   "execution_count": 12,
   "outputs": [],
   "source": [
    "# indices = analyses_output['analysis_name'] == 'GetRMSD'\n",
    "# indices = indices & (pd.Series([len(args) for args in analyses_output['args']]) == 2)\n",
    "#\n",
    "# hah = analyses_output[indices]"
   ],
   "metadata": {
    "collapsed": false,
    "pycharm": {
     "name": "#%%\n"
    }
   }
  },
  {
   "cell_type": "markdown",
   "metadata": {
    "pycharm": {
     "name": "#%% md\n"
    }
   },
   "source": [
    "Divide chains in multi-domain and single domain groups"
   ]
  },
  {
   "cell_type": "code",
   "execution_count": 13,
   "metadata": {
    "pycharm": {
     "name": "#%%\n"
    }
   },
   "outputs": [],
   "source": [
    "a_h_pairs = analyses_dfs['chain2chain']['args'].drop_duplicates()\n",
    "# unfold the tuple of chains into two columns\n",
    "a_h_pairs = unfold_tuple_to_columns(a_h_pairs, ['apo_chain','holo_chain'])\n"
   ]
  },
  {
   "cell_type": "code",
   "execution_count": 14,
   "outputs": [
    {
     "name": "stdout",
     "output_type": "stream",
     "text": [
      "612\n",
      "374\n"
     ]
    }
   ],
   "source": [
    "@dataclass\n",
    "class Chain:\n",
    "    pdb_code: str\n",
    "    chain_id: str\n",
    "\n",
    "domain_info = domain_info.rename(columns={'result': 'domain_count'})\n",
    "total = domain_info[domain_info['type'] == 'total_domains_found']\n",
    "analyzed = domain_info[domain_info['type'] == 'analyzed_domain_count']\n",
    "\n",
    "print(total[total['domain_count'] == 1]['domain_count'].count())\n",
    "print(total[total['domain_count'] > 1]['domain_count'].count())"
   ],
   "metadata": {
    "collapsed": false,
    "pycharm": {
     "name": "#%%\n"
    }
   }
  },
  {
   "cell_type": "code",
   "execution_count": 15,
   "outputs": [
    {
     "name": "stdout",
     "output_type": "stream",
     "text": [
      "610\n",
      "376\n",
      "376\n",
      "610\n"
     ]
    }
   ],
   "source": [
    "# do single dám zatim i ty, co maj total domain víc\n",
    "# ale do bakalarky to udelam i s porovnanim, kdyz maj jen 1 (kolik jich je - pouze 2 chainy, ktery maj vic total\n",
    "# domains..)\n",
    "\n",
    "multi_domain_chains = analyzed[analyzed['domain_count'] > 1]['chain']\n",
    "single_domain_chains = analyzed[analyzed['domain_count'] == 1]['chain']\n",
    "\n",
    "print(single_domain_chains.count())\n",
    "print(multi_domain_chains.count())\n",
    "\n",
    "print(len(multi_domain_chains))\n",
    "# print(domain_count)\n",
    "print(len(single_domain_chains))\n",
    "\n",
    "# label single, multi domain pairs\n",
    "a_h_pairs = a_h_pairs.merge(analyzed[['chain', 'domain_count']], left_on='apo_chain', right_on='chain')\n",
    "#\n",
    "# multi_domain_pairs = a_h_pairs.merge(multi_domain_chains, left_on='apo_chain', right_on='chain')[['apo_chain',\n",
    "#                                                                                                   'holo_chain']]\n",
    "# single_domain_pairs = a_h_pairs.merge(single_domain_chains, left_on='apo_chain', right_on='chain')[['apo_chain',\n",
    "#                                                                                                                                                                                                    'holo_chain']]\n",
    "# chci col a-h tuplů, a col single/multi\n",
    "\n",
    "# todo\n",
    "# describe pairs - count, min, max length (don't have that in saved metadata)\n",
    "# filter two-domain arrangements (if of both apo and holo > 200 A^2)"
   ],
   "metadata": {
    "collapsed": false,
    "pycharm": {
     "name": "#%%\n"
    }
   }
  },
  {
   "cell_type": "markdown",
   "source": [
    "Paper:\n",
    "> 521 representative ligand-bound/\n",
    "ligand-free pairs with lengths varying from 50 to 1392\n",
    "residues was compiled. This results in 328 single-domain\n",
    "proteins, 193 multiple-domain proteins, 487 individual\n",
    "protein domains, and 311 two-domain arrangements.\n",
    "\n",
    "Therefore as \"individual domains\" they mean only those from multi-domain proteins."
   ],
   "metadata": {
    "collapsed": false,
    "pycharm": {
     "name": "#%% md\n"
    }
   }
  },
  {
   "cell_type": "markdown",
   "source": [
    "A-H Secondary structure identity in single/multi domain proteins (proteins myslej páry)\n",
    "- join ss analysis with domain counts (decide what if # total domains different in pair or != 1)\n",
    "histogram with bins for SS identity (2%)"
   ],
   "metadata": {
    "collapsed": false,
    "pycharm": {
     "name": "#%% md\n"
    }
   }
  },
  {
   "cell_type": "code",
   "execution_count": 16,
   "outputs": [
    {
     "name": "stdout",
     "output_type": "stream",
     "text": [
      "                 analysis_name                    args kwargs    result  \\\n",
      "346  CompareSecondaryStructure  ((1w93, A), (1w96, A))     {}  0.797814   \n",
      "441  CompareSecondaryStructure  ((2fjy, B), (1dqe, A))     {}  0.766423   \n",
      "\n",
      "       level_tag  apo_chain holo_chain      chain  domain_count   domain_label  \n",
      "346  chain2chain  (1w93, A)  (1w96, A)  (1w93, A)             4   multi domain  \n",
      "441  chain2chain  (2fjy, B)  (1dqe, A)  (2fjy, B)             1  single domain  \n"
     ]
    },
    {
     "data": {
      "text/plain": "<AxesSubplot:xlabel='result', ylabel='Percent'>"
     },
     "execution_count": 16,
     "metadata": {},
     "output_type": "execute_result"
    },
    {
     "data": {
      "text/plain": "<Figure size 432x288 with 1 Axes>",
      "image/png": "[encoded data removed]"
     },
     "metadata": {
      "needs_background": "light"
     },
     "output_type": "display_data"
    }
   ],
   "source": [
    "# jenze ted je zas to zabaleny...\n",
    "df = analyses_dfs['chain2chain']\n",
    "df = df[df.analysis_name == 'CompareSecondaryStructure']\n",
    "\n",
    "df = df.merge(a_h_pairs, left_on='args', right_on='args')\n",
    "# přidat field single/multi domain\n",
    "\n",
    "df.loc[df['domain_count'] == 1, 'domain_label'] = 'single domain'\n",
    "df.loc[df['domain_count'] > 1, 'domain_label'] = 'multi domain'\n",
    "\n",
    "print(df[df.result < 0.8])\n",
    "\n",
    "sns.histplot(df, x='result', stat='percent', common_norm=False, hue='domain_label', multiple='dodge', binwidth=0.02)\n"
   ],
   "metadata": {
    "collapsed": false,
    "pycharm": {
     "name": "#%%\n"
    }
   }
  },
  {
   "cell_type": "markdown",
   "source": [
    ";A-H RMSD (single, multi, individual domains)\n",
    "- individual domains je vlastni analyza, ale podvybrat jen multi-domain"
   ],
   "metadata": {
    "collapsed": false,
    "pycharm": {
     "name": "#%% md\n"
    }
   }
  },
  {
   "cell_type": "code",
   "execution_count": 17,
   "outputs": [
    {
     "name": "stderr",
     "output_type": "stream",
     "text": [
      "/tmp/ipykernel_378605/913837607.py:14: SettingWithCopyWarning: \n",
      "A value is trying to be set on a copy of a slice from a DataFrame.\n",
      "Try using .loc[row_indexer,col_indexer] = value instead\n",
      "\n",
      "See the caveats in the documentation: https://pandas.pydata.org/pandas-docs/stable/user_guide/indexing.html#returning-a-view-versus-a-copy\n",
      "  domain_df['apo_holo_chain'] = domain_df.args.apply(lambda domain_pair: (domain_pair[0][0:2], domain_pair[1][0:2]))\n"
     ]
    },
    {
     "data": {
      "text/plain": "<AxesSubplot:xlabel='result', ylabel='Percent'>"
     },
     "execution_count": 17,
     "metadata": {},
     "output_type": "execute_result"
    },
    {
     "data": {
      "text/plain": "<Figure size 432x288 with 1 Axes>",
      "image/png": "[encoded data removed]"
     },
     "metadata": {
      "needs_background": "light"
     },
     "output_type": "display_data"
    }
   ],
   "source": [
    "df = analyses_dfs['chain2chain']\n",
    "df = df[df.analysis_name == 'GetRMSD']\n",
    "\n",
    "df = df.merge(a_h_pairs, left_on='args', right_on='args')\n",
    "# přidat field single/multi domain\n",
    "\n",
    "df.loc[df['domain_count'] == 1, 'domain_label'] = 'single domain'\n",
    "df.loc[df['domain_count'] > 1, 'domain_label'] = 'multi domain'\n",
    "\n",
    "\n",
    "domain_df = analyses_dfs['domain2domain'].query('analysis_name == \"GetRMSD\"')\n",
    "# for merging, extract in new column only a-h tuple of (pdb_code, chain_id) from the a-h tuple of triples with also a\n",
    "# domain_id\n",
    "domain_df['apo_holo_chain'] = domain_df.args.apply(lambda domain_pair: (domain_pair[0][0:2], domain_pair[1][0:2]))\n",
    "domain_df = domain_df.merge(df[df.domain_label == 'multi domain']['args'], left_on='apo_holo_chain', right_on='args')\n",
    "domain_df['domain_label'] = 'individual domain'\n",
    "\n",
    "df = pd.concat([df, domain_df], ignore_index=True)\n",
    "\n",
    "sns.histplot(df, x='result', stat='percent', common_norm=False, hue='domain_label', multiple='dodge', binwidth=1)"
   ],
   "metadata": {
    "collapsed": false,
    "pycharm": {
     "name": "#%%\n"
    }
   }
  },
  {
   "cell_type": "markdown",
   "source": [
    "H-H RMSD - to zatim nemám"
   ],
   "metadata": {
    "collapsed": false
   }
  },
  {
   "cell_type": "markdown",
   "source": [
    "## Domain motions\n",
    "Two-domain arrangements\n",
    "\n",
    "filter two-domain arrangements (if of both apo and holo > 200 A^2)\n",
    "\n",
    "classified movements, 3 classes:\n",
    "- shear (RMSD > 1 and < 2 Å)\n",
    "- hinge (RMSD > 2 Å, bending > 108)\n",
    "- other movement.\n",
    "\n",
    ">We found that shear-type mechanism is\n",
    " the most frequent type of domain motion in the dataset\n",
    " (53%); hinge-bending is common for 45%, and the\n",
    " remaining cases cannot be unambiguously classified."
   ],
   "metadata": {
    "collapsed": false,
    "pycharm": {
     "name": "#%% md\n"
    }
   }
  },
  {
   "cell_type": "markdown",
   "source": [
    "2DA bending [deg] vs RMSD (asi 2DA)\n",
    "\n",
    ">the degree of\n",
    " bending (defined as the largest difference in the angle\n",
    " formed by the principal axis of individual domains)\n",
    "\n",
    "We use screw axis angle (is generally smaller?)\n",
    "\n",
    "- v podstate concat tech dvou analyz"
   ],
   "metadata": {
    "collapsed": false,
    "pycharm": {
     "name": "#%% md\n"
    }
   }
  },
  {
   "cell_type": "code",
   "execution_count": 18,
   "outputs": [
    {
     "data": {
      "text/plain": "<AxesSubplot:xlabel='hinge_angle', ylabel='result_x'>"
     },
     "execution_count": 18,
     "metadata": {},
     "output_type": "execute_result"
    },
    {
     "data": {
      "text/plain": "<Figure size 432x288 with 1 Axes>",
      "image/png": "[encoded data removed]"
     },
     "metadata": {
      "needs_background": "light"
     },
     "output_type": "display_data"
    }
   ],
   "source": [
    "# todo jeste odfiltrovat < 200 A^2\n",
    "\n",
    "df = analyses_dfs['chain2DA2chain2DA']\n",
    "rmsd_df = df[df.analysis_name == 'GetRMSD']\n",
    "hinge_df = df[df.analysis_name == 'GetHingeAngle']\n",
    "hinge_df = unfold_tuple_to_columns(hinge_df, ['hinge_angle', 'translation_in_axis'], 'result')\n",
    "# convert args, so that format is the same - rmsd has ((a_d1, a_d2), (h_d1, h_d2))\n",
    "# while hinge had (a_d1, a_d2, h_d1, h_d2)\n",
    "hinge_df['args'] = hinge_df['args'].apply(lambda t: ((t[0], t[1]), (t[2], t[3])))\n",
    "hinge_df['hinge_angle'] = 360/(2*np.pi) * hinge_df['hinge_angle']\n",
    "\n",
    "df = rmsd_df.merge(hinge_df, left_on='args', right_on='args')\n",
    "\n",
    "sns.scatterplot(data=df, x='hinge_angle', y='result_x')\n",
    "\n",
    "# zobrazit si ty, co tvrděj, že jsou shear a podívat se, jestli opravdu jde o shear -> mají translation_in_axis, třeba\n",
    "# větší než hinge\n",
    "# podle částs může být shear, ale i to může být akomodace ligandu jednou doménou, kdy druhá zůstane nezměněná\n",
    "#   to zjistim poměrem rmsd jedné a druhé domény plot_vs translation_in_axis\n",
    "    # min{rmsd_d1/rmsd_d2 a d2/d1}\n",
    "    # pak můžu ještě si je zobrazit na interfacu. Protoze shear by preci se mel menit interface. Mozna, ze ta moje\n",
    "# druha kategorie bude krásně na diagonále true shear bude od ní. Kdoví. Ale taky se nemusí měnit iface v některých\n",
    "# konfiguracích, i když dojde k translation\n",
    "\n"
   ],
   "metadata": {
    "collapsed": false,
    "pycharm": {
     "name": "#%%\n"
    }
   }
  },
  {
   "cell_type": "markdown",
   "source": [
    "2DA ligand-bound vs ligand-free buried interface\n",
    "- tady vubec potrebuju ty arrangements, ktery treba nemam?\n",
    "- ty mam bud u 2DA RMSD nebo 2DA angle, je to jedno, oboji vzdy funguje\n",
    "- join s iface dle paru v jedny str. na apo field a pak druhy na holo\n",
    "\n",
    "v obou analýzách nejsou a-h-páry, musim to fetchnout pro kazdy z nich\n",
    "- vlastne pro kazdy 2DA, který nemám expl. nikde, vyuziju tedy RMSD třeba"
   ],
   "metadata": {
    "collapsed": false,
    "pycharm": {
     "name": "#%% md\n"
    }
   }
  },
  {
   "cell_type": "code",
   "execution_count": 19,
   "outputs": [
    {
     "data": {
      "text/plain": "<AxesSubplot:xlabel='holo_interface', ylabel='apo_interface'>"
     },
     "execution_count": 19,
     "metadata": {},
     "output_type": "execute_result"
    },
    {
     "data": {
      "text/plain": "<Figure size 432x288 with 1 Axes>",
      "image/png": "[encoded data removed]"
     },
     "metadata": {
      "needs_background": "light"
     },
     "output_type": "display_data"
    }
   ],
   "source": [
    "df = analyses_dfs['chain2DA2chain2DA']\n",
    "two_domain_arrangements = df[df.analysis_name == 'GetRMSD']['args']\n",
    "two_domain_arrangements = unfold_tuple_to_columns(two_domain_arrangements, ['apo_domains', 'holo_domains'])\n",
    "\n",
    "df = analyses_dfs['2DA']\n",
    "interface_area = df[df.analysis_name == 'GetInterfaceBuriedArea']\n",
    "\n",
    "df = two_domain_arrangements.merge(interface_area, left_on='apo_domains', right_on='args')\n",
    "df = df.rename(columns={'result': 'apo_interface'})\n",
    "df = df.merge(interface_area, left_on='holo_domains', right_on='args')\n",
    "df = df.rename(columns={'result': 'holo_interface'})\n",
    "\n",
    "interface_area_apo_holo = df\n",
    "sns.scatterplot(data=df, x='holo_interface', y='apo_interface')"
   ],
   "metadata": {
    "collapsed": false,
    "pycharm": {
     "name": "#%%\n"
    }
   }
  },
  {
   "cell_type": "markdown",
   "source": [
    "2DA\n",
    "prediktor large-scale motion type z apo interface buried\n",
    "\n",
    "interface buried (apo) vs (bending)|(RMSD - opět 2DA-explicitně)\n",
    "- scatter and histogram\n"
   ],
   "metadata": {
    "collapsed": false,
    "pycharm": {
     "name": "#%% md\n"
    }
   }
  },
  {
   "cell_type": "code",
   "execution_count": 20,
   "outputs": [
    {
     "data": {
      "text/plain": "<AxesSubplot:xlabel='apo_interface', ylabel='hinge_angle'>"
     },
     "execution_count": 20,
     "metadata": {},
     "output_type": "execute_result"
    },
    {
     "data": {
      "text/plain": "<Figure size 432x288 with 1 Axes>",
      "image/png": "[encoded data removed]"
     },
     "metadata": {
      "needs_background": "light"
     },
     "output_type": "display_data"
    }
   ],
   "source": [
    "df = unfold_tuple_to_columns(hinge_df, ['apo_domains', 'holo_domains'], 'args')\n",
    "df = df.merge(interface_area, left_on='apo_domains', right_on='args')\n",
    "df = df.rename(columns={'result_y': 'apo_interface'})\n",
    "sns.scatterplot(data=df, x='apo_interface', y='hinge_angle')"
   ],
   "metadata": {
    "collapsed": false,
    "pycharm": {
     "name": "#%%\n"
    }
   }
  },
  {
   "cell_type": "code",
   "execution_count": 21,
   "outputs": [
    {
     "data": {
      "text/plain": "<AxesSubplot:xlabel='apo_interface', ylabel='rmsd'>"
     },
     "execution_count": 21,
     "metadata": {},
     "output_type": "execute_result"
    },
    {
     "data": {
      "text/plain": "<Figure size 432x288 with 1 Axes>",
      "image/png": "[encoded data removed]"
     },
     "metadata": {
      "needs_background": "light"
     },
     "output_type": "display_data"
    }
   ],
   "source": [
    "df = unfold_tuple_to_columns(rmsd_df, ['apo_domains', 'holo_domains'], 'args')\n",
    "df = df.merge(interface_area, left_on='apo_domains', right_on='args')\n",
    "df = df.rename(columns={'result_x': 'rmsd'})\n",
    "df = df.rename(columns={'result_y': 'apo_interface'})\n",
    "sns.scatterplot(data=df, x='apo_interface', y='rmsd')\n",
    "\n"
   ],
   "metadata": {
    "collapsed": false,
    "pycharm": {
     "name": "#%%\n"
    }
   }
  },
  {
   "cell_type": "markdown",
   "source": [
    "table with selected 2DA\n",
    "\n",
    "\n",
    "dataframe vlastne mam, staci pouzit iloc\n",
    "\n",
    "\n",
    "\n",
    "todo extract the pair codes and do a similar table (choosing from 2DA file, should be easy)\n",
    "todo potřebuju span do domain serializace ideálně\n",
    "|apo_code|holo_code|2 domains id|a-interface| h-interface|bending[deg]| RMSD\n"
   ],
   "metadata": {
    "collapsed": false,
    "pycharm": {
     "name": "#%% md\n"
    }
   }
  },
  {
   "cell_type": "code",
   "execution_count": 26,
   "outputs": [
    {
     "data": {
      "text/plain": "<pandas.io.formats.style.Styler at 0x7f438a680040>",
      "text/html": "<style type=\"text/css\">\n</style>\n<table id=\"T_11a8f_\">\n  <thead>\n    <tr>\n      <th class=\"blank\" >&nbsp;</th>\n      <th class=\"blank\" >&nbsp;</th>\n      <th class=\"blank\" >&nbsp;</th>\n      <th class=\"blank level0\" >&nbsp;</th>\n      <th class=\"col_heading level0 col0\" >apo_interface</th>\n      <th class=\"col_heading level0 col1\" >holo_interface</th>\n      <th class=\"col_heading level0 col2\" >result</th>\n      <th class=\"col_heading level0 col3\" >hinge_angle</th>\n    </tr>\n    <tr>\n      <th class=\"index_name level0\" >apo_chain</th>\n      <th class=\"index_name level1\" >holo_chain</th>\n      <th class=\"index_name level2\" >apo_domains</th>\n      <th class=\"index_name level3\" >holo_domains</th>\n      <th class=\"blank col0\" >&nbsp;</th>\n      <th class=\"blank col1\" >&nbsp;</th>\n      <th class=\"blank col2\" >&nbsp;</th>\n      <th class=\"blank col3\" >&nbsp;</th>\n    </tr>\n  </thead>\n  <tbody>\n    <tr>\n      <th id=\"T_11a8f_level0_row0\" class=\"row_heading level0 row0\" >1vr6A</th>\n      <th id=\"T_11a8f_level1_row0\" class=\"row_heading level1 row0\" >1rzmA</th>\n      <th id=\"T_11a8f_level2_row0\" class=\"row_heading level2 row0\" >(('1vr6', 'A', '1vr6A01'), ('1vr6', 'A', '1vr6A02'))</th>\n      <th id=\"T_11a8f_level3_row0\" class=\"row_heading level3 row0\" >(('1rzm', 'A', '1vr6A01'), ('1rzm', 'A', '1vr6A02'))</th>\n      <td id=\"T_11a8f_row0_col0\" class=\"data row0 col0\" >695</td>\n      <td id=\"T_11a8f_row0_col1\" class=\"data row0 col1\" >1325</td>\n      <td id=\"T_11a8f_row0_col2\" class=\"data row0 col2\" >10.1</td>\n      <td id=\"T_11a8f_row0_col3\" class=\"data row0 col3\" >139</td>\n    </tr>\n    <tr>\n      <th id=\"T_11a8f_level0_row1\" class=\"row_heading level0 row1\" >1usgA</th>\n      <th id=\"T_11a8f_level1_row1\" class=\"row_heading level1 row1\" >1usiA</th>\n      <th id=\"T_11a8f_level2_row1\" class=\"row_heading level2 row1\" >(('1usg', 'A', '1usgA01'), ('1usg', 'A', '1usgA02'))</th>\n      <th id=\"T_11a8f_level3_row1\" class=\"row_heading level3 row1\" >(('1usi', 'A', '1usgA01'), ('1usi', 'A', '1usgA02'))</th>\n      <td id=\"T_11a8f_row1_col0\" class=\"data row1 col0\" >885</td>\n      <td id=\"T_11a8f_row1_col1\" class=\"data row1 col1\" >1920</td>\n      <td id=\"T_11a8f_row1_col2\" class=\"data row1 col2\" >7.1</td>\n      <td id=\"T_11a8f_row1_col3\" class=\"data row1 col3\" >67</td>\n    </tr>\n    <tr>\n      <th id=\"T_11a8f_level0_row2\" class=\"row_heading level0 row2\" rowspan=\"6\">1cb6A</th>\n      <th id=\"T_11a8f_level1_row2\" class=\"row_heading level1 row2\" rowspan=\"6\">1bka_</th>\n      <th id=\"T_11a8f_level2_row2\" class=\"row_heading level2 row2\" >(('1cb6', 'A', '1cb6A01'), ('1cb6', 'A', '1cb6A02'))</th>\n      <th id=\"T_11a8f_level3_row2\" class=\"row_heading level3 row2\" >(('1bka', 'A', '1cb6A01'), ('1bka', 'A', '1cb6A02'))</th>\n      <td id=\"T_11a8f_row2_col0\" class=\"data row2 col0\" >1502</td>\n      <td id=\"T_11a8f_row2_col1\" class=\"data row2 col1\" >2195</td>\n      <td id=\"T_11a8f_row2_col2\" class=\"data row2 col2\" >6.1</td>\n      <td id=\"T_11a8f_row2_col3\" class=\"data row2 col3\" >54</td>\n    </tr>\n    <tr>\n      <th id=\"T_11a8f_level2_row3\" class=\"row_heading level2 row3\" >(('1cb6', 'A', '1cb6A01'), ('1cb6', 'A', '1cb6A03'))</th>\n      <th id=\"T_11a8f_level3_row3\" class=\"row_heading level3 row3\" >(('1bka', 'A', '1cb6A01'), ('1bka', 'A', '1cb6A03'))</th>\n      <td id=\"T_11a8f_row3_col0\" class=\"data row3 col0\" >1516</td>\n      <td id=\"T_11a8f_row3_col1\" class=\"data row3 col1\" >1469</td>\n      <td id=\"T_11a8f_row3_col2\" class=\"data row3 col2\" >1.4</td>\n      <td id=\"T_11a8f_row3_col3\" class=\"data row3 col3\" >7</td>\n    </tr>\n    <tr>\n      <th id=\"T_11a8f_level2_row4\" class=\"row_heading level2 row4\" >(('1cb6', 'A', '1cb6A01'), ('1cb6', 'A', '1cb6A04'))</th>\n      <th id=\"T_11a8f_level3_row4\" class=\"row_heading level3 row4\" >(('1bka', 'A', '1cb6A01'), ('1bka', 'A', '1cb6A04'))</th>\n      <td id=\"T_11a8f_row4_col0\" class=\"data row4 col0\" >-0</td>\n      <td id=\"T_11a8f_row4_col1\" class=\"data row4 col1\" >-0</td>\n      <td id=\"T_11a8f_row4_col2\" class=\"data row4 col2\" >1.2</td>\n      <td id=\"T_11a8f_row4_col3\" class=\"data row4 col3\" >7</td>\n    </tr>\n    <tr>\n      <th id=\"T_11a8f_level2_row5\" class=\"row_heading level2 row5\" >(('1cb6', 'A', '1cb6A02'), ('1cb6', 'A', '1cb6A03'))</th>\n      <th id=\"T_11a8f_level3_row5\" class=\"row_heading level3 row5\" >(('1bka', 'A', '1cb6A02'), ('1bka', 'A', '1cb6A03'))</th>\n      <td id=\"T_11a8f_row5_col0\" class=\"data row5 col0\" >690</td>\n      <td id=\"T_11a8f_row5_col1\" class=\"data row5 col1\" >45</td>\n      <td id=\"T_11a8f_row5_col2\" class=\"data row5 col2\" >6.6</td>\n      <td id=\"T_11a8f_row5_col3\" class=\"data row5 col3\" >55</td>\n    </tr>\n    <tr>\n      <th id=\"T_11a8f_level2_row6\" class=\"row_heading level2 row6\" >(('1cb6', 'A', '1cb6A02'), ('1cb6', 'A', '1cb6A04'))</th>\n      <th id=\"T_11a8f_level3_row6\" class=\"row_heading level3 row6\" >(('1bka', 'A', '1cb6A02'), ('1bka', 'A', '1cb6A04'))</th>\n      <td id=\"T_11a8f_row6_col0\" class=\"data row6 col0\" >-0</td>\n      <td id=\"T_11a8f_row6_col1\" class=\"data row6 col1\" >-0</td>\n      <td id=\"T_11a8f_row6_col2\" class=\"data row6 col2\" >6.7</td>\n      <td id=\"T_11a8f_row6_col3\" class=\"data row6 col3\" >54</td>\n    </tr>\n    <tr>\n      <th id=\"T_11a8f_level2_row7\" class=\"row_heading level2 row7\" >(('1cb6', 'A', '1cb6A03'), ('1cb6', 'A', '1cb6A04'))</th>\n      <th id=\"T_11a8f_level3_row7\" class=\"row_heading level3 row7\" >(('1bka', 'A', '1cb6A03'), ('1bka', 'A', '1cb6A04'))</th>\n      <td id=\"T_11a8f_row7_col0\" class=\"data row7 col0\" >2503</td>\n      <td id=\"T_11a8f_row7_col1\" class=\"data row7 col1\" >2294</td>\n      <td id=\"T_11a8f_row7_col2\" class=\"data row7 col2\" >0.9</td>\n      <td id=\"T_11a8f_row7_col3\" class=\"data row7 col3\" >1</td>\n    </tr>\n    <tr>\n      <th id=\"T_11a8f_level0_row8\" class=\"row_heading level0 row8\" >1sw5A</th>\n      <th id=\"T_11a8f_level1_row8\" class=\"row_heading level1 row8\" >1sw2A</th>\n      <th id=\"T_11a8f_level2_row8\" class=\"row_heading level2 row8\" >(('1sw5', 'A', '1sw5A01'), ('1sw5', 'A', '1sw5A02'))</th>\n      <th id=\"T_11a8f_level3_row8\" class=\"row_heading level3 row8\" >(('1sw2', 'A', '1sw5A01'), ('1sw2', 'A', '1sw5A02'))</th>\n      <td id=\"T_11a8f_row8_col0\" class=\"data row8 col0\" >1628</td>\n      <td id=\"T_11a8f_row8_col1\" class=\"data row8 col1\" >2088</td>\n      <td id=\"T_11a8f_row8_col2\" class=\"data row8 col2\" >5.0</td>\n      <td id=\"T_11a8f_row8_col3\" class=\"data row8 col3\" >58</td>\n    </tr>\n    <tr>\n      <th id=\"T_11a8f_level0_row9\" class=\"row_heading level0 row9\" >1y3qA</th>\n      <th id=\"T_11a8f_level1_row9\" class=\"row_heading level1 row9\" >1y3nA</th>\n      <th id=\"T_11a8f_level2_row9\" class=\"row_heading level2 row9\" >(('1y3q', 'A', '1y3qA01'), ('1y3q', 'A', '1y3qA02'))</th>\n      <th id=\"T_11a8f_level3_row9\" class=\"row_heading level3 row9\" >(('1y3n', 'A', '1y3qA01'), ('1y3n', 'A', '1y3qA02'))</th>\n      <td id=\"T_11a8f_row9_col0\" class=\"data row9 col0\" >1706</td>\n      <td id=\"T_11a8f_row9_col1\" class=\"data row9 col1\" >2080</td>\n      <td id=\"T_11a8f_row9_col2\" class=\"data row9 col2\" >4.8</td>\n      <td id=\"T_11a8f_row9_col3\" class=\"data row9 col3\" >39</td>\n    </tr>\n    <tr>\n      <th id=\"T_11a8f_level0_row10\" class=\"row_heading level0 row10\" >1gudA</th>\n      <th id=\"T_11a8f_level1_row10\" class=\"row_heading level1 row10\" >1rpjA</th>\n      <th id=\"T_11a8f_level2_row10\" class=\"row_heading level2 row10\" >(('1gud', 'A', '1gudA01'), ('1gud', 'A', '1gudA02'))</th>\n      <th id=\"T_11a8f_level3_row10\" class=\"row_heading level3 row10\" >(('1rpj', 'A', '1gudA01'), ('1rpj', 'A', '1gudA02'))</th>\n      <td id=\"T_11a8f_row10_col0\" class=\"data row10 col0\" >1105</td>\n      <td id=\"T_11a8f_row10_col1\" class=\"data row10 col1\" >1788</td>\n      <td id=\"T_11a8f_row10_col2\" class=\"data row10 col2\" >4.5</td>\n      <td id=\"T_11a8f_row10_col3\" class=\"data row10 col3\" >40</td>\n    </tr>\n    <tr>\n      <th id=\"T_11a8f_level0_row11\" class=\"row_heading level0 row11\" >1ex6B</th>\n      <th id=\"T_11a8f_level1_row11\" class=\"row_heading level1 row11\" >1ex7A</th>\n      <th id=\"T_11a8f_level2_row11\" class=\"row_heading level2 row11\" >(('1ex6', 'B', '1ex6B01'), ('1ex6', 'B', '1ex6B02'))</th>\n      <th id=\"T_11a8f_level3_row11\" class=\"row_heading level3 row11\" >(('1ex7', 'A', '1ex6B01'), ('1ex7', 'A', '1ex6B02'))</th>\n      <td id=\"T_11a8f_row11_col0\" class=\"data row11 col0\" >1091</td>\n      <td id=\"T_11a8f_row11_col1\" class=\"data row11 col1\" >1197</td>\n      <td id=\"T_11a8f_row11_col2\" class=\"data row11 col2\" >4.4</td>\n      <td id=\"T_11a8f_row11_col3\" class=\"data row11 col3\" >47</td>\n    </tr>\n    <tr>\n      <th id=\"T_11a8f_level0_row12\" class=\"row_heading level0 row12\" >1wd7B</th>\n      <th id=\"T_11a8f_level1_row12\" class=\"row_heading level1 row12\" >1wcwA</th>\n      <th id=\"T_11a8f_level2_row12\" class=\"row_heading level2 row12\" >(('1wd7', 'B', '1wd7B01'), ('1wd7', 'B', '1wd7B02'))</th>\n      <th id=\"T_11a8f_level3_row12\" class=\"row_heading level3 row12\" >(('1wcw', 'A', '1wd7B01'), ('1wcw', 'A', '1wd7B02'))</th>\n      <td id=\"T_11a8f_row12_col0\" class=\"data row12 col0\" >1085</td>\n      <td id=\"T_11a8f_row12_col1\" class=\"data row12 col1\" >878</td>\n      <td id=\"T_11a8f_row12_col2\" class=\"data row12 col2\" >4.1</td>\n      <td id=\"T_11a8f_row12_col3\" class=\"data row12 col3\" >40</td>\n    </tr>\n    <tr>\n      <th id=\"T_11a8f_level0_row13\" class=\"row_heading level0 row13\" >1rf5A</th>\n      <th id=\"T_11a8f_level1_row13\" class=\"row_heading level1 row13\" >1rf4A</th>\n      <th id=\"T_11a8f_level2_row13\" class=\"row_heading level2 row13\" >(('1rf5', 'A', '1rf5A01'), ('1rf5', 'A', '1rf5A02'))</th>\n      <th id=\"T_11a8f_level3_row13\" class=\"row_heading level3 row13\" >(('1rf4', 'A', '1rf5A01'), ('1rf4', 'A', '1rf5A02'))</th>\n      <td id=\"T_11a8f_row13_col0\" class=\"data row13 col0\" >1090</td>\n      <td id=\"T_11a8f_row13_col1\" class=\"data row13 col1\" >2157</td>\n      <td id=\"T_11a8f_row13_col2\" class=\"data row13 col2\" >3.7</td>\n      <td id=\"T_11a8f_row13_col3\" class=\"data row13 col3\" >27</td>\n    </tr>\n    <tr>\n      <th id=\"T_11a8f_level0_row14\" class=\"row_heading level0 row14\" >1s2oA</th>\n      <th id=\"T_11a8f_level1_row14\" class=\"row_heading level1 row14\" >1tj5A</th>\n      <th id=\"T_11a8f_level2_row14\" class=\"row_heading level2 row14\" >(('1s2o', 'A', '1s2oA01'), ('1s2o', 'A', '1s2oA02'))</th>\n      <th id=\"T_11a8f_level3_row14\" class=\"row_heading level3 row14\" >(('1tj5', 'A', '1s2oA01'), ('1tj5', 'A', '1s2oA02'))</th>\n      <td id=\"T_11a8f_row14_col0\" class=\"data row14 col0\" >1108</td>\n      <td id=\"T_11a8f_row14_col1\" class=\"data row14 col1\" >1397</td>\n      <td id=\"T_11a8f_row14_col2\" class=\"data row14 col2\" >3.3</td>\n      <td id=\"T_11a8f_row14_col3\" class=\"data row14 col3\" >29</td>\n    </tr>\n    <tr>\n      <th id=\"T_11a8f_level0_row15\" class=\"row_heading level0 row15\" >1k5hA</th>\n      <th id=\"T_11a8f_level1_row15\" class=\"row_heading level1 row15\" >1q0qA</th>\n      <th id=\"T_11a8f_level2_row15\" class=\"row_heading level2 row15\" >(('1k5h', 'A', '1k5hA01'), ('1k5h', 'A', '1k5hA03'))</th>\n      <th id=\"T_11a8f_level3_row15\" class=\"row_heading level3 row15\" >(('1q0q', 'A', '1k5hA01'), ('1q0q', 'A', '1k5hA03'))</th>\n      <td id=\"T_11a8f_row15_col0\" class=\"data row15 col0\" >824</td>\n      <td id=\"T_11a8f_row15_col1\" class=\"data row15 col1\" >857</td>\n      <td id=\"T_11a8f_row15_col2\" class=\"data row15 col2\" >3.1</td>\n      <td id=\"T_11a8f_row15_col3\" class=\"data row15 col3\" >25</td>\n    </tr>\n    <tr>\n      <th id=\"T_11a8f_level0_row16\" class=\"row_heading level0 row16\" >1zolA</th>\n      <th id=\"T_11a8f_level1_row16\" class=\"row_heading level1 row16\" >1o03A</th>\n      <th id=\"T_11a8f_level2_row16\" class=\"row_heading level2 row16\" >(('1zol', 'A', '1zolA01'), ('1zol', 'A', '1zolA02'))</th>\n      <th id=\"T_11a8f_level3_row16\" class=\"row_heading level3 row16\" >(('1o03', 'A', '1zolA01'), ('1o03', 'A', '1zolA02'))</th>\n      <td id=\"T_11a8f_row16_col0\" class=\"data row16 col0\" >1272</td>\n      <td id=\"T_11a8f_row16_col1\" class=\"data row16 col1\" >1935</td>\n      <td id=\"T_11a8f_row16_col2\" class=\"data row16 col2\" >3.1</td>\n      <td id=\"T_11a8f_row16_col3\" class=\"data row16 col3\" >29</td>\n    </tr>\n    <tr>\n      <th id=\"T_11a8f_level0_row17\" class=\"row_heading level0 row17\" >1gqzA</th>\n      <th id=\"T_11a8f_level1_row17\" class=\"row_heading level1 row17\" >2gkeA</th>\n      <th id=\"T_11a8f_level2_row17\" class=\"row_heading level2 row17\" >(('1gqz', 'A', '1gqzA01'), ('1gqz', 'A', '1gqzA02'))</th>\n      <th id=\"T_11a8f_level3_row17\" class=\"row_heading level3 row17\" >(('2gke', 'A', '1gqzA01'), ('2gke', 'A', '1gqzA02'))</th>\n      <td id=\"T_11a8f_row17_col0\" class=\"data row17 col0\" >1557</td>\n      <td id=\"T_11a8f_row17_col1\" class=\"data row17 col1\" >1898</td>\n      <td id=\"T_11a8f_row17_col2\" class=\"data row17 col2\" >2.4</td>\n      <td id=\"T_11a8f_row17_col3\" class=\"data row17 col3\" >18</td>\n    </tr>\n    <tr>\n      <th id=\"T_11a8f_level0_row18\" class=\"row_heading level0 row18\" >1za1A</th>\n      <th id=\"T_11a8f_level1_row18\" class=\"row_heading level1 row18\" >1q95A</th>\n      <th id=\"T_11a8f_level2_row18\" class=\"row_heading level2 row18\" >(('1za1', 'A', '1za1A01'), ('1za1', 'A', '1za1A02'))</th>\n      <th id=\"T_11a8f_level3_row18\" class=\"row_heading level3 row18\" >(('1q95', 'A', '1za1A01'), ('1q95', 'A', '1za1A02'))</th>\n      <td id=\"T_11a8f_row18_col0\" class=\"data row18 col0\" >2372</td>\n      <td id=\"T_11a8f_row18_col1\" class=\"data row18 col1\" >2564</td>\n      <td id=\"T_11a8f_row18_col2\" class=\"data row18 col2\" >2.2</td>\n      <td id=\"T_11a8f_row18_col3\" class=\"data row18 col3\" >12</td>\n    </tr>\n    <tr>\n      <th id=\"T_11a8f_level0_row19\" class=\"row_heading level0 row19\" >1tjdA</th>\n      <th id=\"T_11a8f_level1_row19\" class=\"row_heading level1 row19\" >1eejB</th>\n      <th id=\"T_11a8f_level2_row19\" class=\"row_heading level2 row19\" >(('1tjd', 'A', '1tjdA01'), ('1tjd', 'A', '1tjdA02'))</th>\n      <th id=\"T_11a8f_level3_row19\" class=\"row_heading level3 row19\" >(('1eej', 'B', '1tjdA01'), ('1eej', 'B', '1tjdA02'))</th>\n      <td id=\"T_11a8f_row19_col0\" class=\"data row19 col0\" >439</td>\n      <td id=\"T_11a8f_row19_col1\" class=\"data row19 col1\" >144</td>\n      <td id=\"T_11a8f_row19_col2\" class=\"data row19 col2\" >2.0</td>\n      <td id=\"T_11a8f_row19_col3\" class=\"data row19 col3\" >19</td>\n    </tr>\n    <tr>\n      <th id=\"T_11a8f_level0_row20\" class=\"row_heading level0 row20\" >1jejA</th>\n      <th id=\"T_11a8f_level1_row20\" class=\"row_heading level1 row20\" >1jg6A</th>\n      <th id=\"T_11a8f_level2_row20\" class=\"row_heading level2 row20\" >(('1jej', 'A', '1jejA01'), ('1jej', 'A', '1jejA02'))</th>\n      <th id=\"T_11a8f_level3_row20\" class=\"row_heading level3 row20\" >(('1jg6', 'A', '1jejA01'), ('1jg6', 'A', '1jejA02'))</th>\n      <td id=\"T_11a8f_row20_col0\" class=\"data row20 col0\" >2470</td>\n      <td id=\"T_11a8f_row20_col1\" class=\"data row20 col1\" >2833</td>\n      <td id=\"T_11a8f_row20_col2\" class=\"data row20 col2\" >2.1</td>\n      <td id=\"T_11a8f_row20_col3\" class=\"data row20 col3\" >13</td>\n    </tr>\n    <tr>\n      <th id=\"T_11a8f_level0_row21\" class=\"row_heading level0 row21\" rowspan=\"3\">1hooB</th>\n      <th id=\"T_11a8f_level1_row21\" class=\"row_heading level1 row21\" rowspan=\"3\">1cg0A</th>\n      <th id=\"T_11a8f_level2_row21\" class=\"row_heading level2 row21\" >(('1hoo', 'B', '1hooB01'), ('1hoo', 'B', '1hooB02'))</th>\n      <th id=\"T_11a8f_level3_row21\" class=\"row_heading level3 row21\" >(('1cg0', 'A', '1hooB01'), ('1cg0', 'A', '1hooB02'))</th>\n      <td id=\"T_11a8f_row21_col0\" class=\"data row21 col0\" >1888</td>\n      <td id=\"T_11a8f_row21_col1\" class=\"data row21 col1\" >2300</td>\n      <td id=\"T_11a8f_row21_col2\" class=\"data row21 col2\" >1.7</td>\n      <td id=\"T_11a8f_row21_col3\" class=\"data row21 col3\" >6</td>\n    </tr>\n    <tr>\n      <th id=\"T_11a8f_level2_row22\" class=\"row_heading level2 row22\" >(('1hoo', 'B', '1hooB01'), ('1hoo', 'B', '1hooB03'))</th>\n      <th id=\"T_11a8f_level3_row22\" class=\"row_heading level3 row22\" >(('1cg0', 'A', '1hooB01'), ('1cg0', 'A', '1hooB03'))</th>\n      <td id=\"T_11a8f_row22_col0\" class=\"data row22 col0\" >3239</td>\n      <td id=\"T_11a8f_row22_col1\" class=\"data row22 col1\" >3916</td>\n      <td id=\"T_11a8f_row22_col2\" class=\"data row22 col2\" >1.9</td>\n      <td id=\"T_11a8f_row22_col3\" class=\"data row22 col3\" >9</td>\n    </tr>\n    <tr>\n      <th id=\"T_11a8f_level2_row23\" class=\"row_heading level2 row23\" >(('1hoo', 'B', '1hooB02'), ('1hoo', 'B', '1hooB03'))</th>\n      <th id=\"T_11a8f_level3_row23\" class=\"row_heading level3 row23\" >(('1cg0', 'A', '1hooB02'), ('1cg0', 'A', '1hooB03'))</th>\n      <td id=\"T_11a8f_row23_col0\" class=\"data row23 col0\" >113</td>\n      <td id=\"T_11a8f_row23_col1\" class=\"data row23 col1\" >362</td>\n      <td id=\"T_11a8f_row23_col2\" class=\"data row23 col2\" >2.4</td>\n      <td id=\"T_11a8f_row23_col3\" class=\"data row23 col3\" >15</td>\n    </tr>\n    <tr>\n      <th id=\"T_11a8f_level0_row24\" class=\"row_heading level0 row24\" rowspan=\"3\">1e5lA</th>\n      <th id=\"T_11a8f_level1_row24\" class=\"row_heading level1 row24\" rowspan=\"3\">1e5qA</th>\n      <th id=\"T_11a8f_level2_row24\" class=\"row_heading level2 row24\" >(('1e5l', 'A', '1e5lA01'), ('1e5l', 'A', '1e5lA02'))</th>\n      <th id=\"T_11a8f_level3_row24\" class=\"row_heading level3 row24\" >(('1e5q', 'A', '1e5lA01'), ('1e5q', 'A', '1e5lA02'))</th>\n      <td id=\"T_11a8f_row24_col0\" class=\"data row24 col0\" >2308</td>\n      <td id=\"T_11a8f_row24_col1\" class=\"data row24 col1\" >2625</td>\n      <td id=\"T_11a8f_row24_col2\" class=\"data row24 col2\" >1.5</td>\n      <td id=\"T_11a8f_row24_col3\" class=\"data row24 col3\" >8</td>\n    </tr>\n    <tr>\n      <th id=\"T_11a8f_level2_row25\" class=\"row_heading level2 row25\" >(('1e5l', 'A', '1e5lA01'), ('1e5l', 'A', '1e5lA03'))</th>\n      <th id=\"T_11a8f_level3_row25\" class=\"row_heading level3 row25\" >(('1e5q', 'A', '1e5lA01'), ('1e5q', 'A', '1e5lA03'))</th>\n      <td id=\"T_11a8f_row25_col0\" class=\"data row25 col0\" >-0</td>\n      <td id=\"T_11a8f_row25_col1\" class=\"data row25 col1\" >51</td>\n      <td id=\"T_11a8f_row25_col2\" class=\"data row25 col2\" >2.7</td>\n      <td id=\"T_11a8f_row25_col3\" class=\"data row25 col3\" >18</td>\n    </tr>\n    <tr>\n      <th id=\"T_11a8f_level2_row26\" class=\"row_heading level2 row26\" >(('1e5l', 'A', '1e5lA02'), ('1e5l', 'A', '1e5lA03'))</th>\n      <th id=\"T_11a8f_level3_row26\" class=\"row_heading level3 row26\" >(('1e5q', 'A', '1e5lA02'), ('1e5q', 'A', '1e5lA03'))</th>\n      <td id=\"T_11a8f_row26_col0\" class=\"data row26 col0\" >1987</td>\n      <td id=\"T_11a8f_row26_col1\" class=\"data row26 col1\" >2146</td>\n      <td id=\"T_11a8f_row26_col2\" class=\"data row26 col2\" >1.7</td>\n      <td id=\"T_11a8f_row26_col3\" class=\"data row26 col3\" >12</td>\n    </tr>\n    <tr>\n      <th id=\"T_11a8f_level0_row27\" class=\"row_heading level0 row27\" >1hw1B</th>\n      <th id=\"T_11a8f_level1_row27\" class=\"row_heading level1 row27\" >1h9gA</th>\n      <th id=\"T_11a8f_level2_row27\" class=\"row_heading level2 row27\" >(('1hw1', 'B', '1hw1B01'), ('1hw1', 'B', '1hw1B02'))</th>\n      <th id=\"T_11a8f_level3_row27\" class=\"row_heading level3 row27\" >(('1h9g', 'A', '1hw1B01'), ('1h9g', 'A', '1hw1B02'))</th>\n      <td id=\"T_11a8f_row27_col0\" class=\"data row27 col0\" >742</td>\n      <td id=\"T_11a8f_row27_col1\" class=\"data row27 col1\" >857</td>\n      <td id=\"T_11a8f_row27_col2\" class=\"data row27 col2\" >1.7</td>\n      <td id=\"T_11a8f_row27_col3\" class=\"data row27 col3\" >12</td>\n    </tr>\n    <tr>\n      <th id=\"T_11a8f_level0_row28\" class=\"row_heading level0 row28\" rowspan=\"3\">1l0wB</th>\n      <th id=\"T_11a8f_level1_row28\" class=\"row_heading level1 row28\" rowspan=\"3\">1g51A</th>\n      <th id=\"T_11a8f_level2_row28\" class=\"row_heading level2 row28\" >(('1l0w', 'B', '1l0wB01'), ('1l0w', 'B', '1l0wB02'))</th>\n      <th id=\"T_11a8f_level3_row28\" class=\"row_heading level3 row28\" >(('1g51', 'A', '1l0wB01'), ('1g51', 'A', '1l0wB02'))</th>\n      <td id=\"T_11a8f_row28_col0\" class=\"data row28 col0\" >217</td>\n      <td id=\"T_11a8f_row28_col1\" class=\"data row28 col1\" >182</td>\n      <td id=\"T_11a8f_row28_col2\" class=\"data row28 col2\" >1.7</td>\n      <td id=\"T_11a8f_row28_col3\" class=\"data row28 col3\" >4</td>\n    </tr>\n    <tr>\n      <th id=\"T_11a8f_level2_row29\" class=\"row_heading level2 row29\" >(('1l0w', 'B', '1l0wB01'), ('1l0w', 'B', '1l0wB03'))</th>\n      <th id=\"T_11a8f_level3_row29\" class=\"row_heading level3 row29\" >(('1g51', 'A', '1l0wB01'), ('1g51', 'A', '1l0wB03'))</th>\n      <td id=\"T_11a8f_row29_col0\" class=\"data row29 col0\" >-0</td>\n      <td id=\"T_11a8f_row29_col1\" class=\"data row29 col1\" >0</td>\n      <td id=\"T_11a8f_row29_col2\" class=\"data row29 col2\" >1.5</td>\n      <td id=\"T_11a8f_row29_col3\" class=\"data row29 col3\" >7</td>\n    </tr>\n    <tr>\n      <th id=\"T_11a8f_level2_row30\" class=\"row_heading level2 row30\" >(('1l0w', 'B', '1l0wB02'), ('1l0w', 'B', '1l0wB03'))</th>\n      <th id=\"T_11a8f_level3_row30\" class=\"row_heading level3 row30\" >(('1g51', 'A', '1l0wB02'), ('1g51', 'A', '1l0wB03'))</th>\n      <td id=\"T_11a8f_row30_col0\" class=\"data row30 col0\" >1340</td>\n      <td id=\"T_11a8f_row30_col1\" class=\"data row30 col1\" >1416</td>\n      <td id=\"T_11a8f_row30_col2\" class=\"data row30 col2\" >1.8</td>\n      <td id=\"T_11a8f_row30_col3\" class=\"data row30 col3\" >4</td>\n    </tr>\n    <tr>\n      <th id=\"T_11a8f_level0_row31\" class=\"row_heading level0 row31\" >1evkA</th>\n      <th id=\"T_11a8f_level1_row31\" class=\"row_heading level1 row31\" >1evlA</th>\n      <th id=\"T_11a8f_level2_row31\" class=\"row_heading level2 row31\" >(('1evk', 'A', '1evkA01'), ('1evk', 'A', '1evkA02'))</th>\n      <th id=\"T_11a8f_level3_row31\" class=\"row_heading level3 row31\" >(('1evl', 'A', '1evkA01'), ('1evl', 'A', '1evkA02'))</th>\n      <td id=\"T_11a8f_row31_col0\" class=\"data row31 col0\" >1538</td>\n      <td id=\"T_11a8f_row31_col1\" class=\"data row31 col1\" >1646</td>\n      <td id=\"T_11a8f_row31_col2\" class=\"data row31 col2\" >1.6</td>\n      <td id=\"T_11a8f_row31_col3\" class=\"data row31 col3\" >6</td>\n    </tr>\n    <tr>\n      <th id=\"T_11a8f_level0_row32\" class=\"row_heading level0 row32\" >1g6wD</th>\n      <th id=\"T_11a8f_level1_row32\" class=\"row_heading level1 row32\" >1k0bC</th>\n      <th id=\"T_11a8f_level2_row32\" class=\"row_heading level2 row32\" >(('1g6w', 'D', '1g6wD01'), ('1g6w', 'D', '1g6wD02'))</th>\n      <th id=\"T_11a8f_level3_row32\" class=\"row_heading level3 row32\" >(('1k0b', 'C', '1g6wD01'), ('1k0b', 'C', '1g6wD02'))</th>\n      <td id=\"T_11a8f_row32_col0\" class=\"data row32 col0\" >2021</td>\n      <td id=\"T_11a8f_row32_col1\" class=\"data row32 col1\" >2056</td>\n      <td id=\"T_11a8f_row32_col2\" class=\"data row32 col2\" >1.4</td>\n      <td id=\"T_11a8f_row32_col3\" class=\"data row32 col3\" >4</td>\n    </tr>\n    <tr>\n      <th id=\"T_11a8f_level0_row33\" class=\"row_heading level0 row33\" >1njgB</th>\n      <th id=\"T_11a8f_level1_row33\" class=\"row_heading level1 row33\" >1njfA</th>\n      <th id=\"T_11a8f_level2_row33\" class=\"row_heading level2 row33\" >(('1njg', 'B', '1njgB01'), ('1njg', 'B', '1njgB02'))</th>\n      <th id=\"T_11a8f_level3_row33\" class=\"row_heading level3 row33\" >(('1njf', 'A', '1njgB01'), ('1njf', 'A', '1njgB02'))</th>\n      <td id=\"T_11a8f_row33_col0\" class=\"data row33 col0\" >836</td>\n      <td id=\"T_11a8f_row33_col1\" class=\"data row33 col1\" >1024</td>\n      <td id=\"T_11a8f_row33_col2\" class=\"data row33 col2\" >1.3</td>\n      <td id=\"T_11a8f_row33_col3\" class=\"data row33 col3\" >13</td>\n    </tr>\n    <tr>\n      <th id=\"T_11a8f_level0_row34\" class=\"row_heading level0 row34\" >1t6kA</th>\n      <th id=\"T_11a8f_level1_row34\" class=\"row_heading level1 row34\" >1u1wA</th>\n      <th id=\"T_11a8f_level2_row34\" class=\"row_heading level2 row34\" >(('1t6k', 'A', '1t6kA01'), ('1t6k', 'A', '1t6kA02'))</th>\n      <th id=\"T_11a8f_level3_row34\" class=\"row_heading level3 row34\" >(('1u1w', 'A', '1t6kA01'), ('1u1w', 'A', '1t6kA02'))</th>\n      <td id=\"T_11a8f_row34_col0\" class=\"data row34 col0\" >1716</td>\n      <td id=\"T_11a8f_row34_col1\" class=\"data row34 col1\" >2248</td>\n      <td id=\"T_11a8f_row34_col2\" class=\"data row34 col2\" >1.3</td>\n      <td id=\"T_11a8f_row34_col3\" class=\"data row34 col3\" >10</td>\n    </tr>\n    <tr>\n      <th id=\"T_11a8f_level0_row35\" class=\"row_heading level0 row35\" >1yl5B</th>\n      <th id=\"T_11a8f_level1_row35\" class=\"row_heading level1 row35\" >1yl7A</th>\n      <th id=\"T_11a8f_level2_row35\" class=\"row_heading level2 row35\" >(('1yl5', 'B', '1yl5B01'), ('1yl5', 'B', '1yl5B02'))</th>\n      <th id=\"T_11a8f_level3_row35\" class=\"row_heading level3 row35\" >(('1yl7', 'A', '1yl5B01'), ('1yl7', 'A', '1yl5B02'))</th>\n      <td id=\"T_11a8f_row35_col0\" class=\"data row35 col0\" >1060</td>\n      <td id=\"T_11a8f_row35_col1\" class=\"data row35 col1\" >1003</td>\n      <td id=\"T_11a8f_row35_col2\" class=\"data row35 col2\" >1.2</td>\n      <td id=\"T_11a8f_row35_col3\" class=\"data row35 col3\" >10</td>\n    </tr>\n    <tr>\n      <th id=\"T_11a8f_level0_row36\" class=\"row_heading level0 row36\" >2cgkB</th>\n      <th id=\"T_11a8f_level1_row36\" class=\"row_heading level1 row36\" >2cgjA</th>\n      <th id=\"T_11a8f_level2_row36\" class=\"row_heading level2 row36\" >(('2cgk', 'B', '2cgkB01'), ('2cgk', 'B', '2cgkB02'))</th>\n      <th id=\"T_11a8f_level3_row36\" class=\"row_heading level3 row36\" >(('2cgj', 'A', '2cgkB01'), ('2cgj', 'A', '2cgkB02'))</th>\n      <td id=\"T_11a8f_row36_col0\" class=\"data row36 col0\" >3682</td>\n      <td id=\"T_11a8f_row36_col1\" class=\"data row36 col1\" >4476</td>\n      <td id=\"T_11a8f_row36_col2\" class=\"data row36 col2\" >1.6</td>\n      <td id=\"T_11a8f_row36_col3\" class=\"data row36 col3\" >9</td>\n    </tr>\n    <tr>\n      <th id=\"T_11a8f_level0_row37\" class=\"row_heading level0 row37\" >1wxdB</th>\n      <th id=\"T_11a8f_level1_row37\" class=\"row_heading level1 row37\" >2cy0A</th>\n      <th id=\"T_11a8f_level2_row37\" class=\"row_heading level2 row37\" >(('1wxd', 'B', '1wxdB01'), ('1wxd', 'B', '1wxdB02'))</th>\n      <th id=\"T_11a8f_level3_row37\" class=\"row_heading level3 row37\" >(('2cy0', 'A', '1wxdB01'), ('2cy0', 'A', '1wxdB02'))</th>\n      <td id=\"T_11a8f_row37_col0\" class=\"data row37 col0\" >1374</td>\n      <td id=\"T_11a8f_row37_col1\" class=\"data row37 col1\" >1535</td>\n      <td id=\"T_11a8f_row37_col2\" class=\"data row37 col2\" >0.8</td>\n      <td id=\"T_11a8f_row37_col3\" class=\"data row37 col3\" >7</td>\n    </tr>\n    <tr>\n      <th id=\"T_11a8f_level0_row38\" class=\"row_heading level0 row38\" rowspan=\"3\">2a5aA</th>\n      <th id=\"T_11a8f_level1_row38\" class=\"row_heading level1 row38\" rowspan=\"3\">1uk4A</th>\n      <th id=\"T_11a8f_level2_row38\" class=\"row_heading level2 row38\" >(('2a5a', 'A', '2a5aA01'), ('2a5a', 'A', '2a5aA02'))</th>\n      <th id=\"T_11a8f_level3_row38\" class=\"row_heading level3 row38\" >(('1uk4', 'A', '2a5aA01'), ('1uk4', 'A', '2a5aA02'))</th>\n      <td id=\"T_11a8f_row38_col0\" class=\"data row38 col0\" >2392</td>\n      <td id=\"T_11a8f_row38_col1\" class=\"data row38 col1\" >2391</td>\n      <td id=\"T_11a8f_row38_col2\" class=\"data row38 col2\" >0.5</td>\n      <td id=\"T_11a8f_row38_col3\" class=\"data row38 col3\" >2</td>\n    </tr>\n    <tr>\n      <th id=\"T_11a8f_level2_row39\" class=\"row_heading level2 row39\" >(('2a5a', 'A', '2a5aA01'), ('2a5a', 'A', '2a5aA03'))</th>\n      <th id=\"T_11a8f_level3_row39\" class=\"row_heading level3 row39\" >(('1uk4', 'A', '2a5aA01'), ('1uk4', 'A', '2a5aA03'))</th>\n      <td id=\"T_11a8f_row39_col0\" class=\"data row39 col0\" >1495</td>\n      <td id=\"T_11a8f_row39_col1\" class=\"data row39 col1\" >1424</td>\n      <td id=\"T_11a8f_row39_col2\" class=\"data row39 col2\" >0.7</td>\n      <td id=\"T_11a8f_row39_col3\" class=\"data row39 col3\" >6</td>\n    </tr>\n    <tr>\n      <th id=\"T_11a8f_level2_row40\" class=\"row_heading level2 row40\" >(('2a5a', 'A', '2a5aA02'), ('2a5a', 'A', '2a5aA03'))</th>\n      <th id=\"T_11a8f_level3_row40\" class=\"row_heading level3 row40\" >(('1uk4', 'A', '2a5aA02'), ('1uk4', 'A', '2a5aA03'))</th>\n      <td id=\"T_11a8f_row40_col0\" class=\"data row40 col0\" >-0</td>\n      <td id=\"T_11a8f_row40_col1\" class=\"data row40 col1\" >0</td>\n      <td id=\"T_11a8f_row40_col2\" class=\"data row40 col2\" >0.8</td>\n      <td id=\"T_11a8f_row40_col3\" class=\"data row40 col3\" >5</td>\n    </tr>\n    <tr>\n      <th id=\"T_11a8f_level0_row41\" class=\"row_heading level0 row41\" >2g26A</th>\n      <th id=\"T_11a8f_level1_row41\" class=\"row_heading level1 row41\" >2fs4B</th>\n      <th id=\"T_11a8f_level2_row41\" class=\"row_heading level2 row41\" >(('2g26', 'A', '2g26A01'), ('2g26', 'A', '2g26A02'))</th>\n      <th id=\"T_11a8f_level3_row41\" class=\"row_heading level3 row41\" >(('2fs4', 'B', '2g26A01'), ('2fs4', 'B', '2g26A02'))</th>\n      <td id=\"T_11a8f_row41_col0\" class=\"data row41 col0\" >2597</td>\n      <td id=\"T_11a8f_row41_col1\" class=\"data row41 col1\" >2548</td>\n      <td id=\"T_11a8f_row41_col2\" class=\"data row41 col2\" >1.2</td>\n      <td id=\"T_11a8f_row41_col3\" class=\"data row41 col3\" >5</td>\n    </tr>\n    <tr>\n      <th id=\"T_11a8f_level0_row42\" class=\"row_heading level0 row42\" rowspan=\"3\">1mmiA</th>\n      <th id=\"T_11a8f_level1_row42\" class=\"row_heading level1 row42\" rowspan=\"3\">1ok7B</th>\n      <th id=\"T_11a8f_level2_row42\" class=\"row_heading level2 row42\" >(('1mmi', 'A', '1mmiA01'), ('1mmi', 'A', '1mmiA02'))</th>\n      <th id=\"T_11a8f_level3_row42\" class=\"row_heading level3 row42\" >(('1ok7', 'B', '1mmiA01'), ('1ok7', 'B', '1mmiA02'))</th>\n      <td id=\"T_11a8f_row42_col0\" class=\"data row42 col0\" >1710</td>\n      <td id=\"T_11a8f_row42_col1\" class=\"data row42 col1\" >1666</td>\n      <td id=\"T_11a8f_row42_col2\" class=\"data row42 col2\" >0.6</td>\n      <td id=\"T_11a8f_row42_col3\" class=\"data row42 col3\" >3</td>\n    </tr>\n    <tr>\n      <th id=\"T_11a8f_level2_row43\" class=\"row_heading level2 row43\" >(('1mmi', 'A', '1mmiA01'), ('1mmi', 'A', '1mmiA03'))</th>\n      <th id=\"T_11a8f_level3_row43\" class=\"row_heading level3 row43\" >(('1ok7', 'B', '1mmiA01'), ('1ok7', 'B', '1mmiA03'))</th>\n      <td id=\"T_11a8f_row43_col0\" class=\"data row43 col0\" >-0</td>\n      <td id=\"T_11a8f_row43_col1\" class=\"data row43 col1\" >0</td>\n      <td id=\"T_11a8f_row43_col2\" class=\"data row43 col2\" >1.1</td>\n      <td id=\"T_11a8f_row43_col3\" class=\"data row43 col3\" >9</td>\n    </tr>\n    <tr>\n      <th id=\"T_11a8f_level2_row44\" class=\"row_heading level2 row44\" >(('1mmi', 'A', '1mmiA02'), ('1mmi', 'A', '1mmiA03'))</th>\n      <th id=\"T_11a8f_level3_row44\" class=\"row_heading level3 row44\" >(('1ok7', 'B', '1mmiA02'), ('1ok7', 'B', '1mmiA03'))</th>\n      <td id=\"T_11a8f_row44_col0\" class=\"data row44 col0\" >1246</td>\n      <td id=\"T_11a8f_row44_col1\" class=\"data row44 col1\" >1207</td>\n      <td id=\"T_11a8f_row44_col2\" class=\"data row44 col2\" >0.9</td>\n      <td id=\"T_11a8f_row44_col3\" class=\"data row44 col3\" >8</td>\n    </tr>\n    <tr>\n      <th id=\"T_11a8f_level0_row45\" class=\"row_heading level0 row45\" >1a8d_</th>\n      <th id=\"T_11a8f_level1_row45\" class=\"row_heading level1 row45\" >1d0hA</th>\n      <th id=\"T_11a8f_level2_row45\" class=\"row_heading level2 row45\" >(('1a8d', 'A', '1a8dA01'), ('1a8d', 'A', '1a8dA02'))</th>\n      <th id=\"T_11a8f_level3_row45\" class=\"row_heading level3 row45\" >(('1d0h', 'A', '1a8dA01'), ('1d0h', 'A', '1a8dA02'))</th>\n      <td id=\"T_11a8f_row45_col0\" class=\"data row45 col0\" >2498</td>\n      <td id=\"T_11a8f_row45_col1\" class=\"data row45 col1\" >2637</td>\n      <td id=\"T_11a8f_row45_col2\" class=\"data row45 col2\" >1.1</td>\n      <td id=\"T_11a8f_row45_col3\" class=\"data row45 col3\" >2</td>\n    </tr>\n    <tr>\n      <th id=\"T_11a8f_level0_row46\" class=\"row_heading level0 row46\" >1hfkA</th>\n      <th id=\"T_11a8f_level1_row46\" class=\"row_heading level1 row46\" >1hg1C</th>\n      <th id=\"T_11a8f_level2_row46\" class=\"row_heading level2 row46\" >(('1hfk', 'A', '1hfkA01'), ('1hfk', 'A', '1hfkA02'))</th>\n      <th id=\"T_11a8f_level3_row46\" class=\"row_heading level3 row46\" >(('1hg1', 'C', '1hfkA01'), ('1hg1', 'C', '1hfkA02'))</th>\n      <td id=\"T_11a8f_row46_col0\" class=\"data row46 col0\" >2083</td>\n      <td id=\"T_11a8f_row46_col1\" class=\"data row46 col1\" >2111</td>\n      <td id=\"T_11a8f_row46_col2\" class=\"data row46 col2\" >0.9</td>\n      <td id=\"T_11a8f_row46_col3\" class=\"data row46 col3\" >2</td>\n    </tr>\n    <tr>\n      <th id=\"T_11a8f_level0_row47\" class=\"row_heading level0 row47\" >1k6wA</th>\n      <th id=\"T_11a8f_level1_row47\" class=\"row_heading level1 row47\" >1k70A</th>\n      <th id=\"T_11a8f_level2_row47\" class=\"row_heading level2 row47\" >(('1k6w', 'A', '1k6wA01'), ('1k6w', 'A', '1k6wA02'))</th>\n      <th id=\"T_11a8f_level3_row47\" class=\"row_heading level3 row47\" >(('1k70', 'A', '1k6wA01'), ('1k70', 'A', '1k6wA02'))</th>\n      <td id=\"T_11a8f_row47_col0\" class=\"data row47 col0\" >2116</td>\n      <td id=\"T_11a8f_row47_col1\" class=\"data row47 col1\" >2122</td>\n      <td id=\"T_11a8f_row47_col2\" class=\"data row47 col2\" >1.1</td>\n      <td id=\"T_11a8f_row47_col3\" class=\"data row47 col3\" >2</td>\n    </tr>\n  </tbody>\n</table>\n"
     },
     "execution_count": 26,
     "metadata": {},
     "output_type": "execute_result"
    }
   ],
   "source": [
    "table_chains = '../../manual_test_data/paper_pdf_results_table_chains'\n",
    "# načist do df, mergovat s tim nahoře, a je to\n",
    "paper_table_df = pd.read_csv(table_chains, delimiter=r' ', header=None, names=('apo_chain', 'holo_chain'))\n",
    "paper_table_df['apo_holo_struct'] = list(zip(\n",
    "    paper_table_df.apo_chain.apply(lambda s: s[:4]),\n",
    "    paper_table_df.holo_chain.apply(lambda s: s[:4]),\n",
    "))\n",
    "\n",
    "analyses_df = interface_area_apo_holo.drop(columns='args').merge(rmsd_df, left_on='args_x', right_on='args')\n",
    "analyses_df = analyses_df.merge(hinge_df.rename(columns={'args': 'args_hinge'})[['args_hinge', 'hinge_angle']],\n",
    "                                left_on='args_x', right_on='args_hinge')\n",
    "\n",
    "analyses_df['apo_holo_struct'] = analyses_df.args_x.apply(lambda domain_pair: (domain_pair[0][0][0],\n",
    "                                                                             domain_pair[1][0][0]))\n",
    "df = paper_table_df.merge(analyses_df, left_on='apo_holo_struct', right_on='apo_holo_struct')\n",
    "df = df.set_index(['apo_chain', 'holo_chain', 'apo_domains', 'holo_domains'])[['apo_interface', 'holo_interface',\n",
    "                                                                               'result', 'hinge_angle']]\n",
    "# pd.MultiIndex from apo_holo_chain_x and domain\n",
    "df.style.format(precision=0, formatter={'result': '{:.1f}'})\n"
   ],
   "metadata": {
    "collapsed": false,
    "pycharm": {
     "name": "#%%\n"
    }
   }
  },
  {
   "cell_type": "code",
   "execution_count": 22,
   "outputs": [],
   "source": [],
   "metadata": {
    "collapsed": false,
    "pycharm": {
     "name": "#%%\n"
    }
   }
  }
 ],
 "metadata": {
  "kernelspec": {
   "display_name": "Python 3",
   "language": "python",
   "name": "python3"
  },
  "language_info": {
   "codemirror_mode": {
    "name": "ipython",
    "version": 3
   },
   "file_extension": ".py",
   "mimetype": "text/x-python",
   "name": "python",
   "nbconvert_exporter": "python",
   "pygments_lexer": "ipython3",
   "version": "3.8.10"
  }
 },
 "nbformat": 4,
 "nbformat_minor": 1
}