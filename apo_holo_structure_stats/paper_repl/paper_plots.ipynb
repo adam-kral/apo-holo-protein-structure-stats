{
 "cells": [
  {
   "cell_type": "code",
   "execution_count": 100,
   "metadata": {},
   "outputs": [],
   "source": [
    "import json\n",
    "from collections import defaultdict\n",
    "from dataclasses import dataclass\n",
    "import numpy as np\n",
    "\n",
    "import seaborn as sns\n",
    "\n",
    "analyses_output_filename = 'output_apo_holo_2021-10-21T15:16:45.148250.json'\n",
    "domain_info_filename = 'output_domains_info2021-10-21T15:16:45.148250.json'\n",
    "\n",
    "import pandas as pd\n",
    "\n",
    "with open(analyses_output_filename) as f:\n",
    "    analyses_json = json.load(f)\n",
    "\n",
    "analyses_output = defaultdict(list)\n",
    "\n",
    "for obj in analyses_json:\n",
    "    def tuple_it(l):\n",
    "        if isinstance(l, list):\n",
    "            return tuple(map(tuple_it, l))\n",
    "        else:\n",
    "            return l\n",
    "\n",
    "    obj['args'] = tuple_it(obj['args'])  # json converted all my tuples to lists... won't work with hashing for joins..\n",
    "    analyses_output[obj['level_tag']].append(obj)\n",
    "\n",
    "analyses_dfs = {}\n",
    "# convert analyses outputs to DataFrames\n",
    "for k in analyses_output:\n",
    "    analyses_dfs[k] = pd.DataFrame(analyses_output[k])\n",
    "\n",
    "# analyses_output = pd.read_json(analyses_output_filename)\n",
    "domain_info = pd.read_json(domain_info_filename)\n",
    "domain_info['chain'] = list(zip(domain_info.pdb_code, domain_info.chain_id))\n",
    "\n",
    "\n",
    "def unfold_tuple_to_columns(series_or_df_with_tuple_column, new_column_names, column_name=None):\n",
    "    \"\"\" Unfolds a column `column_name` with tuples and adds the unfolded series as new columns.\n",
    "    Original column of tuples unchanged. \"\"\"\n",
    "    to_unfold = series_or_df_with_tuple_column\n",
    "\n",
    "    if isinstance(series_or_df_with_tuple_column, pd.DataFrame):\n",
    "        assert column_name is not None\n",
    "        to_unfold = series_or_df_with_tuple_column[column_name]\n",
    "\n",
    "    unfolded_cols = to_unfold.apply(pd.Series)\n",
    "    unfolded_cols.columns = new_column_names\n",
    "    return pd.concat([series_or_df_with_tuple_column, unfolded_cols], axis=1)\n",
    "\n",
    "\n",
    "\n",
    "\n",
    "# with open(domain_info_filename) as f:\n",
    "#     domain_info = json.load(f)"
   ]
  },
  {
   "cell_type": "markdown",
   "source": [
    "get apo-holo pairs\n",
    "jinak nevim, co patri k sobe\n",
    "treba z toho analyses_output,"
   ],
   "metadata": {
    "collapsed": false,
    "pycharm": {
     "name": "#%% md\n"
    }
   }
  },
  {
   "cell_type": "code",
   "execution_count": 92,
   "outputs": [],
   "source": [
    "# indices = analyses_output['analysis_name'] == 'GetRMSD'\n",
    "# indices = indices & (pd.Series([len(args) for args in analyses_output['args']]) == 2)\n",
    "#\n",
    "# hah = analyses_output[indices]"
   ],
   "metadata": {
    "collapsed": false,
    "pycharm": {
     "name": "#%%\n"
    }
   }
  },
  {
   "cell_type": "markdown",
   "metadata": {
    "pycharm": {
     "name": "#%% md\n"
    }
   },
   "source": [
    "Divide chains in multi-domain and single domain groups"
   ]
  },
  {
   "cell_type": "code",
   "execution_count": 93,
   "metadata": {
    "pycharm": {
     "name": "#%%\n"
    }
   },
   "outputs": [],
   "source": [
    "a_h_pairs = analyses_dfs['chain2chain']['args'].drop_duplicates()\n",
    "# unfold the tuple of chains into two columns\n",
    "a_h_pairs = unfold_tuple_to_columns(a_h_pairs, ['apo_chain','holo_chain'])\n"
   ]
  },
  {
   "cell_type": "code",
   "execution_count": 94,
   "outputs": [
    {
     "name": "stdout",
     "output_type": "stream",
     "text": [
      "612\n",
      "374\n"
     ]
    }
   ],
   "source": [
    "@dataclass\n",
    "class Chain:\n",
    "    pdb_code: str\n",
    "    chain_id: str\n",
    "\n",
    "domain_info = domain_info.rename(columns={'result': 'domain_count'})\n",
    "total = domain_info[domain_info['type'] == 'total_domains_found']\n",
    "analyzed = domain_info[domain_info['type'] == 'analyzed_domain_count']\n",
    "\n",
    "print(total[total['domain_count'] == 1]['domain_count'].count())\n",
    "print(total[total['domain_count'] > 1]['domain_count'].count())"
   ],
   "metadata": {
    "collapsed": false,
    "pycharm": {
     "name": "#%%\n"
    }
   }
  },
  {
   "cell_type": "code",
   "execution_count": 95,
   "outputs": [
    {
     "name": "stdout",
     "output_type": "stream",
     "text": [
      "610\n",
      "376\n",
      "376\n",
      "610\n"
     ]
    }
   ],
   "source": [
    "# do single dám zatim i ty, co maj total domain víc\n",
    "# ale do bakalarky to udelam i s porovnanim, kdyz maj jen 1 (kolik jich je - pouze 2 chainy, ktery maj vic total\n",
    "# domains..)\n",
    "\n",
    "multi_domain_chains = analyzed[analyzed['domain_count'] > 1]['chain']\n",
    "single_domain_chains = analyzed[analyzed['domain_count'] == 1]['chain']\n",
    "\n",
    "print(single_domain_chains.count())\n",
    "print(multi_domain_chains.count())\n",
    "\n",
    "print(len(multi_domain_chains))\n",
    "# print(domain_count)\n",
    "print(len(single_domain_chains))\n",
    "\n",
    "# label single, multi domain pairs\n",
    "a_h_pairs = a_h_pairs.merge(analyzed[['chain', 'domain_count']], left_on='apo_chain', right_on='chain')\n",
    "#\n",
    "# multi_domain_pairs = a_h_pairs.merge(multi_domain_chains, left_on='apo_chain', right_on='chain')[['apo_chain',\n",
    "#                                                                                                   'holo_chain']]\n",
    "# single_domain_pairs = a_h_pairs.merge(single_domain_chains, left_on='apo_chain', right_on='chain')[['apo_chain',\n",
    "#                                                                                                                                                                                                    'holo_chain']]\n",
    "# chci col a-h tuplů, a col single/multi\n",
    "\n",
    "# todo\n",
    "# describe pairs - count, min, max length (don't have that in saved metadata)\n",
    "# filter two-domain arrangements (if of both apo and holo > 200 A^2)"
   ],
   "metadata": {
    "collapsed": false,
    "pycharm": {
     "name": "#%%\n"
    }
   }
  },
  {
   "cell_type": "markdown",
   "source": [
    "Paper:\n",
    "> 521 representative ligand-bound/\n",
    "ligand-free pairs with lengths varying from 50 to 1392\n",
    "residues was compiled. This results in 328 single-domain\n",
    "proteins, 193 multiple-domain proteins, 487 individual\n",
    "protein domains, and 311 two-domain arrangements.\n",
    "\n",
    "Therefore as \"individual domains\" they mean only those from multi-domain proteins."
   ],
   "metadata": {
    "collapsed": false,
    "pycharm": {
     "name": "#%% md\n"
    }
   }
  },
  {
   "cell_type": "markdown",
   "source": [
    "A-H Secondary structure identity in single/multi domain proteins (proteins myslej páry)\n",
    "- join ss analysis with domain counts (decide what if # total domains different in pair or != 1)\n",
    "histogram with bins for SS identity (2%)"
   ],
   "metadata": {
    "collapsed": false,
    "pycharm": {
     "name": "#%% md\n"
    }
   }
  },
  {
   "cell_type": "code",
   "execution_count": 96,
   "outputs": [
    {
     "data": {
      "text/plain": "<AxesSubplot:xlabel='result', ylabel='Probability'>"
     },
     "execution_count": 96,
     "metadata": {},
     "output_type": "execute_result"
    },
    {
     "data": {
      "text/plain": "<Figure size 432x288 with 1 Axes>",
      "image/png": "[encoded data removed]"
     },
     "metadata": {
      "needs_background": "light"
     },
     "output_type": "display_data"
    }
   ],
   "source": [
    "# jenze ted je zas to zabaleny...\n",
    "df = analyses_dfs['chain2chain']\n",
    "df = df[df.analysis_name == 'CompareSecondaryStructure']\n",
    "\n",
    "df = df.merge(a_h_pairs, left_on='args', right_on='args')\n",
    "# přidat field single/multi domain\n",
    "\n",
    "df.loc[df['domain_count'] == 1, 'domain_label'] = 'single domain'\n",
    "df.loc[df['domain_count'] > 1, 'domain_label'] = 'multi domain'\n",
    "\n",
    "sns.histplot(df, x='result', stat='probability', hue='domain_label', multiple='dodge', binwidth=0.02)\n"
   ],
   "metadata": {
    "collapsed": false,
    "pycharm": {
     "name": "#%%\n"
    }
   }
  },
  {
   "cell_type": "markdown",
   "source": [
    "A-H RMSD (single, multi, individual domains)\n",
    "- individual domains je vlastni analyza, ale podvybrat jen multi-domain"
   ],
   "metadata": {
    "collapsed": false,
    "pycharm": {
     "name": "#%% md\n"
    }
   }
  },
  {
   "cell_type": "code",
   "execution_count": 97,
   "outputs": [
    {
     "data": {
      "text/plain": "<AxesSubplot:xlabel='result', ylabel='Probability'>"
     },
     "execution_count": 97,
     "metadata": {},
     "output_type": "execute_result"
    },
    {
     "data": {
      "text/plain": "<Figure size 432x288 with 1 Axes>",
      "image/png": "[encoded data removed]"
     },
     "metadata": {
      "needs_background": "light"
     },
     "output_type": "display_data"
    }
   ],
   "source": [
    "df = analyses_dfs['chain2chain']\n",
    "df = df[df.analysis_name == 'GetRMSD']\n",
    "\n",
    "df = df.merge(a_h_pairs, left_on='args', right_on='args')\n",
    "# přidat field single/multi domain\n",
    "\n",
    "df.loc[df['domain_count'] == 1, 'domain_label'] = 'single domain'\n",
    "df.loc[df['domain_count'] > 1, 'domain_label'] = 'multi domain'\n",
    "\n",
    "sns.histplot(df, x='result', stat='probability', hue='domain_label', multiple='dodge', binwidth=1)\n"
   ],
   "metadata": {
    "collapsed": false,
    "pycharm": {
     "name": "#%%\n"
    }
   }
  },
  {
   "cell_type": "markdown",
   "source": [
    "H-H RMSD - to zatim nemám"
   ],
   "metadata": {
    "collapsed": false,
    "pycharm": {
     "name": "#%% md\n"
    }
   }
  },
  {
   "cell_type": "markdown",
   "source": [
    "## Domain motions\n",
    "Two-domain arrangements\n",
    "\n",
    "filter two-domain arrangements (if of both apo and holo > 200 A^2)\n",
    "\n",
    "classified movements, 3 classes:\n",
    "- shear (RMSD > 1 and < 2 Å)\n",
    "- hinge (RMSD > 2 Å, bending > 108)\n",
    "- other movement.\n",
    "\n",
    ">We found that shear-type mechanism is\n",
    " the most frequent type of domain motion in the dataset\n",
    " (53%); hinge-bending is common for 45%, and the\n",
    " remaining cases cannot be unambiguously classified."
   ],
   "metadata": {
    "collapsed": false,
    "pycharm": {
     "name": "#%% md\n"
    }
   }
  },
  {
   "cell_type": "markdown",
   "source": [
    "2DA bending [deg] vs RMSD (asi 2DA)\n",
    "\n",
    ">the degree of\n",
    " bending (defined as the largest difference in the angle\n",
    " formed by the principal axis of individual domains)\n",
    "\n",
    "We use screw axis angle (is generally smaller?)\n",
    "\n",
    "- v podstate concat tech dvou analyz"
   ],
   "metadata": {
    "collapsed": false,
    "pycharm": {
     "name": "#%% md\n"
    }
   }
  },
  {
   "cell_type": "code",
   "execution_count": 111,
   "outputs": [
    {
     "data": {
      "text/plain": "<AxesSubplot:xlabel='hinge_angle', ylabel='result_x'>"
     },
     "execution_count": 111,
     "metadata": {},
     "output_type": "execute_result"
    },
    {
     "data": {
      "text/plain": "<Figure size 432x288 with 1 Axes>",
      "image/png": "[encoded data removed]"
     },
     "metadata": {
      "needs_background": "light"
     },
     "output_type": "display_data"
    }
   ],
   "source": [
    "# todo jeste odfiltrovat < 200 A^2\n",
    "\n",
    "df = analyses_dfs['chain2DA2chain2DA']\n",
    "rmsd_df = df[df.analysis_name == 'GetRMSD']\n",
    "hinge_df = df[df.analysis_name == 'GetHingeAngle']\n",
    "hinge_df = unfold_tuple_to_columns(hinge_df, ['hinge_angle', 'translation_in_axis'], 'result')\n",
    "# convert args, so that format is the same - rmsd has ((a_d1, a_d2), (h_d1, h_d2))\n",
    "# while hinge had (a_d1, a_d2, h_d1, h_d2)\n",
    "hinge_df['args'] = hinge_df['args'].apply(lambda t: ((t[0], t[1]), (t[2], t[3])))\n",
    "hinge_df['hinge_angle'] = 360/(2*np.pi) * hinge_df['hinge_angle']\n",
    "\n",
    "df = rmsd_df.merge(hinge_df, left_on='args', right_on='args')\n",
    "\n",
    "sns.scatterplot(data=df, x='hinge_angle', y='result_x')\n",
    "\n",
    "# zobrazit si ty, co tvrděj, že jsou shear a podívat se, jestli opravdu jde o shear -> mají translation_in_axis, třeba\n",
    "# větší než hinge\n",
    "# podle částs může být shear, ale i to může být akomodace ligandu jednou doménou, kdy druhá zůstane nezměněná\n",
    "#   to zjistim poměrem rmsd jedné a druhé domény plot_vs translation_in_axis\n",
    "    # min{rmsd_d1/rmsd_d2 a d2/d1}\n",
    "    # pak můžu ještě si je zobrazit na interfacu. Protoze shear by preci se mel menit interface. Mozna, ze ta moje\n",
    "# druha kategorie bude krásně na diagonále true shear bude od ní. Kdoví. Ale taky se nemusí měnit iface v některých\n",
    "# konfiguracích, i když dojde k translation\n",
    "\n"
   ],
   "metadata": {
    "collapsed": false,
    "pycharm": {
     "name": "#%%\n"
    }
   }
  },
  {
   "cell_type": "markdown",
   "source": [
    "2DA ligand-bound vs ligand-free buried interface\n",
    "- tady vubec potrebuju ty arrangements, ktery treba nemam?\n",
    "- ty mam bud u 2DA RMSD nebo 2DA angle, je to jedno, oboji vzdy funguje\n",
    "- join s iface dle paru v jedny str. na apo field a pak druhy na holo\n",
    "\n",
    "v obou analýzách nejsou a-h-páry, musim to fetchnout pro kazdy z nich\n",
    "- vlastne pro kazdy 2DA, který nemám expl. nikde, vyuziju tedy RMSD třeba"
   ],
   "metadata": {
    "collapsed": false,
    "pycharm": {
     "name": "#%% md\n"
    }
   }
  },
  {
   "cell_type": "code",
   "execution_count": 105,
   "outputs": [
    {
     "data": {
      "text/plain": "<AxesSubplot:xlabel='holo_interface', ylabel='apo_interface'>"
     },
     "execution_count": 105,
     "metadata": {},
     "output_type": "execute_result"
    },
    {
     "data": {
      "text/plain": "<Figure size 432x288 with 1 Axes>",
      "image/png": "[encoded data removed]"
     },
     "metadata": {
      "needs_background": "light"
     },
     "output_type": "display_data"
    }
   ],
   "source": [
    "df = analyses_dfs['chain2DA2chain2DA']\n",
    "two_domain_arrangements = df[df.analysis_name == 'GetRMSD']['args']\n",
    "two_domain_arrangements = unfold_tuple_to_columns(two_domain_arrangements, ['apo_domains', 'holo_domains'])\n",
    "\n",
    "df = analyses_dfs['2DA']\n",
    "interface_area = df[df.analysis_name == 'GetInterfaceBuriedArea']\n",
    "\n",
    "df = two_domain_arrangements.merge(interface_area, left_on='apo_domains', right_on='args')\n",
    "df = df.rename(columns={'result': 'apo_interface'})\n",
    "df = df.merge(interface_area, left_on='holo_domains', right_on='args')\n",
    "df = df.rename(columns={'result': 'holo_interface'})\n",
    "\n",
    "sns.scatterplot(data=df, x='holo_interface', y='apo_interface')"
   ],
   "metadata": {
    "collapsed": false,
    "pycharm": {
     "name": "#%%\n"
    }
   }
  },
  {
   "cell_type": "markdown",
   "source": [
    "2DA\n",
    "prediktor large-scale motion type z apo interface buried\n",
    "\n",
    "interface buried (apo) vs (bending)|(RMSD - opět 2DA-explicitně)\n",
    "- scatter and histogram\n"
   ],
   "metadata": {
    "collapsed": false,
    "pycharm": {
     "name": "#%% md\n"
    }
   }
  },
  {
   "cell_type": "code",
   "execution_count": 115,
   "outputs": [
    {
     "data": {
      "text/plain": "<AxesSubplot:xlabel='apo_interface', ylabel='hinge_angle'>"
     },
     "execution_count": 115,
     "metadata": {},
     "output_type": "execute_result"
    },
    {
     "data": {
      "text/plain": "<Figure size 432x288 with 1 Axes>",
      "image/png": "[encoded data removed]"
     },
     "metadata": {
      "needs_background": "light"
     },
     "output_type": "display_data"
    }
   ],
   "source": [
    "df = unfold_tuple_to_columns(hinge_df, ['apo_domains', 'holo_domains'], 'args')\n",
    "df = df.merge(interface_area, left_on='apo_domains', right_on='args')\n",
    "df = df.rename(columns={'result_y': 'apo_interface'})\n",
    "sns.scatterplot(data=df, x='apo_interface', y='hinge_angle')"
   ],
   "metadata": {
    "collapsed": false,
    "pycharm": {
     "name": "#%%\n"
    }
   }
  },
  {
   "cell_type": "code",
   "execution_count": 116,
   "outputs": [
    {
     "data": {
      "text/plain": "<AxesSubplot:xlabel='apo_interface', ylabel='rmsd'>"
     },
     "execution_count": 116,
     "metadata": {},
     "output_type": "execute_result"
    },
    {
     "data": {
      "text/plain": "<Figure size 432x288 with 1 Axes>",
      "image/png": "[encoded data removed]"
     },
     "metadata": {
      "needs_background": "light"
     },
     "output_type": "display_data"
    }
   ],
   "source": [
    "df = unfold_tuple_to_columns(rmsd_df, ['apo_domains', 'holo_domains'], 'args')\n",
    "df = df.merge(interface_area, left_on='apo_domains', right_on='args')\n",
    "df = df.rename(columns={'result_x': 'rmsd'})\n",
    "df = df.rename(columns={'result_y': 'apo_interface'})\n",
    "sns.scatterplot(data=df, x='apo_interface', y='rmsd')\n",
    "\n"
   ],
   "metadata": {
    "collapsed": false,
    "pycharm": {
     "name": "#%%\n"
    }
   }
  },
  {
   "cell_type": "markdown",
   "source": [
    "table with selected 2DA\n",
    "\n",
    "todo extract the pair codes and do a similar table (choosing from 2DA file, should be easy)\n",
    "\n",
    "|apo_code|holo_code|2 domains id|a-interface| h-interface|bending[deg]| RMSD"
   ],
   "metadata": {
    "collapsed": false,
    "pycharm": {
     "name": "#%% md\n"
    }
   }
  }
 ],
 "metadata": {
  "kernelspec": {
   "display_name": "Python 3",
   "language": "python",
   "name": "python3"
  },
  "language_info": {
   "codemirror_mode": {
    "name": "ipython",
    "version": 3
   },
   "file_extension": ".py",
   "mimetype": "text/x-python",
   "name": "python",
   "nbconvert_exporter": "python",
   "pygments_lexer": "ipython3",
   "version": "3.8.10"
  }
 },
 "nbformat": 4,
 "nbformat_minor": 1
}