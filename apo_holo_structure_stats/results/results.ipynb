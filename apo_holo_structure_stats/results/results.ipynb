{
 "cells": [
  {
   "cell_type": "code",
   "execution_count": 2,
   "outputs": [],
   "source": [
    "from apo_holo_structure_stats.pipeline.utils.json import read_jsons_with_seqs_in\n",
    "a = 'hovno'"
   ],
   "metadata": {
    "collapsed": false,
    "pycharm": {
     "name": "#%%\n"
    }
   }
  },
  {
   "cell_type": "code",
   "execution_count": 3,
   "outputs": [],
   "source": [
    "import sys\n",
    "import json\n",
    "import pandas as pd"
   ],
   "metadata": {
    "collapsed": false,
    "pycharm": {
     "name": "#%%\n"
    }
   }
  },
  {
   "cell_type": "markdown",
   "source": [
    "## Filter structures"
   ],
   "metadata": {
    "collapsed": false
   }
  },
  {
   "cell_type": "code",
   "execution_count": 4,
   "outputs": [
    {
     "name": "stdout",
     "output_type": "stream",
     "text": [
      "loading filtered.json_shard24: 100/100\n",
      "concatenating...\n",
      "done.\n"
     ]
    }
   ],
   "source": [
    "import sys\n",
    "\n",
    "from apo_holo_structure_stats.pipeline.utils.json import read_jsons_with_seqs_in\n",
    "\n",
    "filtered__json_folder = '/home/adam/pschool/bakalarka/apo-holo-protein-structure-stats/meta_output/filtered.json_shard.d/*'\n",
    "df = read_jsons_with_seqs_in(filtered__json_folder)\n",
    "df = df.drop(columns='sequence')\n"
   ],
   "metadata": {
    "collapsed": false,
    "pycharm": {
     "name": "#%%\n"
    }
   }
  },
  {
   "cell_type": "code",
   "execution_count": 5,
   "outputs": [
    {
     "data": {
      "text/plain": "       uniprotkb_id pdb_code  uniprot_group_size  \\\ncount        275659   275659       275659.000000   \nunique        31511   119076                 NaN   \ntop          Q79791     3j3q                 NaN   \nfreq           2582     1356                 NaN   \nmean            NaN      NaN          142.688535   \nstd             NaN      NaN          338.779873   \nmin             NaN      NaN            2.000000   \n25%             NaN      NaN            8.000000   \n50%             NaN      NaN           26.000000   \n75%             NaN      NaN          107.000000   \nmax             NaN      NaN         2582.000000   \n\n                                      path chain_id is_holo  \ncount                               275659   275659  275659  \nunique                              125155     2036       2  \ntop     ../input/pdb_structs88/3j3q.cif.gz        A    True  \nfreq                                  1356   114944  171911  \nmean                                   NaN      NaN     NaN  \nstd                                    NaN      NaN     NaN  \nmin                                    NaN      NaN     NaN  \n25%                                    NaN      NaN     NaN  \n50%                                    NaN      NaN     NaN  \n75%                                    NaN      NaN     NaN  \nmax                                    NaN      NaN     NaN  ",
      "text/html": "<div>\n<style scoped>\n    .dataframe tbody tr th:only-of-type {\n        vertical-align: middle;\n    }\n\n    .dataframe tbody tr th {\n        vertical-align: top;\n    }\n\n    .dataframe thead th {\n        text-align: right;\n    }\n</style>\n<table border=\"1\" class=\"dataframe\">\n  <thead>\n    <tr style=\"text-align: right;\">\n      <th></th>\n      <th>uniprotkb_id</th>\n      <th>pdb_code</th>\n      <th>uniprot_group_size</th>\n      <th>path</th>\n      <th>chain_id</th>\n      <th>is_holo</th>\n    </tr>\n  </thead>\n  <tbody>\n    <tr>\n      <th>count</th>\n      <td>275659</td>\n      <td>275659</td>\n      <td>275659.000000</td>\n      <td>275659</td>\n      <td>275659</td>\n      <td>275659</td>\n    </tr>\n    <tr>\n      <th>unique</th>\n      <td>31511</td>\n      <td>119076</td>\n      <td>NaN</td>\n      <td>125155</td>\n      <td>2036</td>\n      <td>2</td>\n    </tr>\n    <tr>\n      <th>top</th>\n      <td>Q79791</td>\n      <td>3j3q</td>\n      <td>NaN</td>\n      <td>../input/pdb_structs88/3j3q.cif.gz</td>\n      <td>A</td>\n      <td>True</td>\n    </tr>\n    <tr>\n      <th>freq</th>\n      <td>2582</td>\n      <td>1356</td>\n      <td>NaN</td>\n      <td>1356</td>\n      <td>114944</td>\n      <td>171911</td>\n    </tr>\n    <tr>\n      <th>mean</th>\n      <td>NaN</td>\n      <td>NaN</td>\n      <td>142.688535</td>\n      <td>NaN</td>\n      <td>NaN</td>\n      <td>NaN</td>\n    </tr>\n    <tr>\n      <th>std</th>\n      <td>NaN</td>\n      <td>NaN</td>\n      <td>338.779873</td>\n      <td>NaN</td>\n      <td>NaN</td>\n      <td>NaN</td>\n    </tr>\n    <tr>\n      <th>min</th>\n      <td>NaN</td>\n      <td>NaN</td>\n      <td>2.000000</td>\n      <td>NaN</td>\n      <td>NaN</td>\n      <td>NaN</td>\n    </tr>\n    <tr>\n      <th>25%</th>\n      <td>NaN</td>\n      <td>NaN</td>\n      <td>8.000000</td>\n      <td>NaN</td>\n      <td>NaN</td>\n      <td>NaN</td>\n    </tr>\n    <tr>\n      <th>50%</th>\n      <td>NaN</td>\n      <td>NaN</td>\n      <td>26.000000</td>\n      <td>NaN</td>\n      <td>NaN</td>\n      <td>NaN</td>\n    </tr>\n    <tr>\n      <th>75%</th>\n      <td>NaN</td>\n      <td>NaN</td>\n      <td>107.000000</td>\n      <td>NaN</td>\n      <td>NaN</td>\n      <td>NaN</td>\n    </tr>\n    <tr>\n      <th>max</th>\n      <td>NaN</td>\n      <td>NaN</td>\n      <td>2582.000000</td>\n      <td>NaN</td>\n      <td>NaN</td>\n      <td>NaN</td>\n    </tr>\n  </tbody>\n</table>\n</div>"
     },
     "execution_count": 5,
     "metadata": {},
     "output_type": "execute_result"
    }
   ],
   "source": [
    "df.describe(include='all')\n"
   ],
   "metadata": {
    "collapsed": false,
    "pycharm": {
     "name": "#%%\n"
    }
   }
  },
  {
   "cell_type": "markdown",
   "source": [
    "Compute upper bound of count of a-h pairs (for each uniprot group)"
   ],
   "metadata": {
    "collapsed": false
   }
  },
  {
   "cell_type": "code",
   "execution_count": 6,
   "outputs": [
    {
     "name": "stdout",
     "output_type": "stream",
     "text": [
      "ub on all pairs: 2973238\n"
     ]
    },
    {
     "data": {
      "text/plain": "count     31511.000000\nmean         94.355558\nstd        3287.218990\nmin           0.000000\n25%           0.000000\n50%           0.000000\n75%           2.000000\nmax      395527.000000\nName: upper_bound_on_pairs, dtype: float64"
     },
     "execution_count": 6,
     "metadata": {},
     "output_type": "execute_result"
    }
   ],
   "source": [
    "by_unp = df.groupby('uniprotkb_id')\n",
    "holos_by_group = by_unp['is_holo'].sum()\n",
    "apos_by_group = by_unp['is_holo'].count() - holos_by_group\n",
    "\n",
    "ub_pairs_by_group = (apos_by_group * holos_by_group).rename('upper_bound_on_pairs')\n",
    "print('ub on all pairs:', ub_pairs_by_group.sum())\n",
    "ub_pairs_by_group.describe()\n"
   ],
   "metadata": {
    "collapsed": false,
    "pycharm": {
     "name": "#%%\n"
    }
   }
  },
  {
   "cell_type": "code",
   "execution_count": 7,
   "outputs": [
    {
     "name": "stdout",
     "output_type": "stream",
     "text": [
      "clip: 10 ub_pairs: 61109 ecdf:  0.8654\n",
      "clip: 100 ub_pairs: 228713 ecdf:  0.9653\n",
      "clip: 1000 ub_pairs: 616695 ecdf:  0.9929\n",
      "clip: inf ub_pairs: 2973238 ecdf:  0.0000\n"
     ]
    },
    {
     "data": {
      "text/plain": "<Figure size 432x288 with 1 Axes>",
      "image/png": "[encoded data removed]"
     },
     "metadata": {
      "needs_background": "light"
     },
     "output_type": "display_data"
    }
   ],
   "source": [
    "from matplotlib import pyplot as plt, ticker\n",
    "import numpy as np\n",
    "import seaborn as sns\n",
    "\n",
    "ax = sns.ecdfplot(ub_pairs_by_group)\n",
    "ax.set(xlim=(0, 1500))\n",
    "plt.grid()\n",
    "ax.yaxis.set_major_locator(ticker.MultipleLocator(0.05))\n",
    "\n",
    "upper_clip = [10, 100, 1000, np.inf]\n",
    "\n",
    "def find_nearest_idx(array, value):\n",
    "    return (np.abs(array - value)).argmin()\n",
    "\n",
    "ecdf_y, ecdf_x = np.sort(ub_pairs_by_group.to_numpy()), np.linspace(0, 1, len(ub_pairs_by_group), endpoint=False)\n",
    "\n",
    "\n",
    "for clip in upper_clip:\n",
    "    ax.axvline(clip, c='r', lw=0.5)\n",
    "    ecdf_val = ecdf_x[find_nearest_idx(ecdf_y, clip)]\n",
    "    print('clip:', clip, 'ub_pairs:', ub_pairs_by_group.clip(upper=clip).sum(), 'ecdf: ', f'{ecdf_val:.4f}')\n",
    "\n",
    "plt.show()\n"
   ],
   "metadata": {
    "collapsed": false,
    "pycharm": {
     "name": "#%%\n"
    }
   }
  },
  {
   "cell_type": "markdown",
   "source": [
    "## Make Pairs LCS"
   ],
   "metadata": {
    "collapsed": false
   }
  },
  {
   "cell_type": "code",
   "execution_count": 4,
   "outputs": [],
   "source": [
    "import pandas as pd\n",
    "import json\n",
    "#\n",
    "# potential_pairs = pd.read_json('/home/adam/pschool/bakalarka/apo-holo-protein-structure-stats/o_make_pairs_lcs', )\n",
    "# print(len(potential_pairs))\n",
    "#\n"
   ],
   "metadata": {
    "collapsed": false,
    "pycharm": {
     "name": "#%%\n"
    }
   }
  },
  {
   "cell_type": "code",
   "execution_count": 5,
   "outputs": [],
   "source": [
    "json_filename = '/home/adam/pschool/bakalarka/apo-holo-protein-structure-stats/o_make_pairs_lcs'\n",
    "with open(json_filename) as f:\n",
    "    potential_pairs = pd.json_normalize(json.load(f))\n"
   ],
   "metadata": {
    "collapsed": false,
    "pycharm": {
     "name": "#%%\n"
    }
   }
  },
  {
   "cell_type": "code",
   "execution_count": 10,
   "outputs": [
    {
     "data": {
      "text/plain": "       lcs_result.length  lcs_result.i1  lcs_result.i2  lcs_result.mismatches  \\\ncount       2.973238e+06   2.973238e+06   2.973238e+06           2.973238e+06   \nmean        1.622273e+02   4.757007e+01   5.342030e+01           8.702955e+01   \nstd         1.546087e+02   1.131088e+02   1.137240e+02           1.633831e+02   \nmin         1.000000e+00   0.000000e+00   0.000000e+00           0.000000e+00   \n25%         6.700000e+01   0.000000e+00   0.000000e+00           0.000000e+00   \n50%         1.270000e+02   2.000000e+00   2.000000e+00           3.500000e+01   \n75%         2.210000e+02   4.700000e+01   6.900000e+01           1.030000e+02   \nmax         4.620000e+03   2.843000e+03   4.221000e+03           2.083000e+03   \n\n       lcs_result.leading_mismatches  lcs_result.trailing_mismatches  \ncount                   2.973238e+06                    2.973238e+06  \nmean                    3.326011e+01                    5.376944e+01  \nstd                     8.893563e+01                    1.259912e+02  \nmin                     0.000000e+00                    0.000000e+00  \n25%                     0.000000e+00                    0.000000e+00  \n50%                     0.000000e+00                    0.000000e+00  \n75%                     3.300000e+01                    5.900000e+01  \nmax                     2.083000e+03                    1.618000e+03  ",
      "text/html": "<div>\n<style scoped>\n    .dataframe tbody tr th:only-of-type {\n        vertical-align: middle;\n    }\n\n    .dataframe tbody tr th {\n        vertical-align: top;\n    }\n\n    .dataframe thead th {\n        text-align: right;\n    }\n</style>\n<table border=\"1\" class=\"dataframe\">\n  <thead>\n    <tr style=\"text-align: right;\">\n      <th></th>\n      <th>lcs_result.length</th>\n      <th>lcs_result.i1</th>\n      <th>lcs_result.i2</th>\n      <th>lcs_result.mismatches</th>\n      <th>lcs_result.leading_mismatches</th>\n      <th>lcs_result.trailing_mismatches</th>\n    </tr>\n  </thead>\n  <tbody>\n    <tr>\n      <th>count</th>\n      <td>2.973238e+06</td>\n      <td>2.973238e+06</td>\n      <td>2.973238e+06</td>\n      <td>2.973238e+06</td>\n      <td>2.973238e+06</td>\n      <td>2.973238e+06</td>\n    </tr>\n    <tr>\n      <th>mean</th>\n      <td>1.622273e+02</td>\n      <td>4.757007e+01</td>\n      <td>5.342030e+01</td>\n      <td>8.702955e+01</td>\n      <td>3.326011e+01</td>\n      <td>5.376944e+01</td>\n    </tr>\n    <tr>\n      <th>std</th>\n      <td>1.546087e+02</td>\n      <td>1.131088e+02</td>\n      <td>1.137240e+02</td>\n      <td>1.633831e+02</td>\n      <td>8.893563e+01</td>\n      <td>1.259912e+02</td>\n    </tr>\n    <tr>\n      <th>min</th>\n      <td>1.000000e+00</td>\n      <td>0.000000e+00</td>\n      <td>0.000000e+00</td>\n      <td>0.000000e+00</td>\n      <td>0.000000e+00</td>\n      <td>0.000000e+00</td>\n    </tr>\n    <tr>\n      <th>25%</th>\n      <td>6.700000e+01</td>\n      <td>0.000000e+00</td>\n      <td>0.000000e+00</td>\n      <td>0.000000e+00</td>\n      <td>0.000000e+00</td>\n      <td>0.000000e+00</td>\n    </tr>\n    <tr>\n      <th>50%</th>\n      <td>1.270000e+02</td>\n      <td>2.000000e+00</td>\n      <td>2.000000e+00</td>\n      <td>3.500000e+01</td>\n      <td>0.000000e+00</td>\n      <td>0.000000e+00</td>\n    </tr>\n    <tr>\n      <th>75%</th>\n      <td>2.210000e+02</td>\n      <td>4.700000e+01</td>\n      <td>6.900000e+01</td>\n      <td>1.030000e+02</td>\n      <td>3.300000e+01</td>\n      <td>5.900000e+01</td>\n    </tr>\n    <tr>\n      <th>max</th>\n      <td>4.620000e+03</td>\n      <td>2.843000e+03</td>\n      <td>4.221000e+03</td>\n      <td>2.083000e+03</td>\n      <td>2.083000e+03</td>\n      <td>1.618000e+03</td>\n    </tr>\n  </tbody>\n</table>\n</div>"
     },
     "execution_count": 10,
     "metadata": {},
     "output_type": "execute_result"
    }
   ],
   "source": [
    "potential_pairs.describe()"
   ],
   "metadata": {
    "collapsed": false,
    "pycharm": {
     "name": "#%%\n"
    }
   }
  },
  {
   "cell_type": "code",
   "execution_count": 6,
   "outputs": [
    {
     "name": "stdout",
     "output_type": "stream",
     "text": [
      "2973238\n",
      "1132444\n"
     ]
    }
   ],
   "source": [
    "print(len(potential_pairs))\n",
    "pairs = potential_pairs[potential_pairs['lcs_result.mismatches'] == 0]\n",
    "print(len(pairs))"
   ],
   "metadata": {
    "collapsed": false,
    "pycharm": {
     "name": "#%%\n"
    }
   }
  },
  {
   "cell_type": "code",
   "execution_count": 15,
   "outputs": [
    {
     "data": {
      "text/plain": "1258"
     },
     "execution_count": 15,
     "metadata": {},
     "output_type": "execute_result"
    }
   ],
   "source": [
    "len(pairs[pairs['lcs_result.length'] < 50])\n",
    "# todo I can remove those from results\n",
    "# and the shortest give errors in run_analyses (if all are unobserved - 0 residues), but that's ok.."
   ],
   "metadata": {
    "collapsed": false,
    "pycharm": {
     "name": "#%%\n"
    }
   }
  },
  {
   "cell_type": "code",
   "execution_count": 12,
   "outputs": [
    {
     "data": {
      "text/plain": "       lcs_result.length  lcs_result.i1  lcs_result.i2  lcs_result.mismatches  \\\ncount       1.132444e+06   1.132444e+06   1.132444e+06              1132444.0   \nmean        2.191686e+02   3.523263e+00   6.990543e+00                    0.0   \nstd         1.394397e+02   2.338920e+01   3.943674e+01                    0.0   \nmin         3.000000e+00   0.000000e+00   0.000000e+00                    0.0   \n25%         1.290000e+02   0.000000e+00   0.000000e+00                    0.0   \n50%         1.690000e+02   0.000000e+00   0.000000e+00                    0.0   \n75%         3.060000e+02   0.000000e+00   0.000000e+00                    0.0   \nmax         4.620000e+03   2.327000e+03   2.987000e+03                    0.0   \n\n       lcs_result.leading_mismatches  lcs_result.trailing_mismatches  \ncount                      1132444.0                       1132444.0  \nmean                             0.0                             0.0  \nstd                              0.0                             0.0  \nmin                              0.0                             0.0  \n25%                              0.0                             0.0  \n50%                              0.0                             0.0  \n75%                              0.0                             0.0  \nmax                              0.0                             0.0  ",
      "text/html": "<div>\n<style scoped>\n    .dataframe tbody tr th:only-of-type {\n        vertical-align: middle;\n    }\n\n    .dataframe tbody tr th {\n        vertical-align: top;\n    }\n\n    .dataframe thead th {\n        text-align: right;\n    }\n</style>\n<table border=\"1\" class=\"dataframe\">\n  <thead>\n    <tr style=\"text-align: right;\">\n      <th></th>\n      <th>lcs_result.length</th>\n      <th>lcs_result.i1</th>\n      <th>lcs_result.i2</th>\n      <th>lcs_result.mismatches</th>\n      <th>lcs_result.leading_mismatches</th>\n      <th>lcs_result.trailing_mismatches</th>\n    </tr>\n  </thead>\n  <tbody>\n    <tr>\n      <th>count</th>\n      <td>1.132444e+06</td>\n      <td>1.132444e+06</td>\n      <td>1.132444e+06</td>\n      <td>1132444.0</td>\n      <td>1132444.0</td>\n      <td>1132444.0</td>\n    </tr>\n    <tr>\n      <th>mean</th>\n      <td>2.191686e+02</td>\n      <td>3.523263e+00</td>\n      <td>6.990543e+00</td>\n      <td>0.0</td>\n      <td>0.0</td>\n      <td>0.0</td>\n    </tr>\n    <tr>\n      <th>std</th>\n      <td>1.394397e+02</td>\n      <td>2.338920e+01</td>\n      <td>3.943674e+01</td>\n      <td>0.0</td>\n      <td>0.0</td>\n      <td>0.0</td>\n    </tr>\n    <tr>\n      <th>min</th>\n      <td>3.000000e+00</td>\n      <td>0.000000e+00</td>\n      <td>0.000000e+00</td>\n      <td>0.0</td>\n      <td>0.0</td>\n      <td>0.0</td>\n    </tr>\n    <tr>\n      <th>25%</th>\n      <td>1.290000e+02</td>\n      <td>0.000000e+00</td>\n      <td>0.000000e+00</td>\n      <td>0.0</td>\n      <td>0.0</td>\n      <td>0.0</td>\n    </tr>\n    <tr>\n      <th>50%</th>\n      <td>1.690000e+02</td>\n      <td>0.000000e+00</td>\n      <td>0.000000e+00</td>\n      <td>0.0</td>\n      <td>0.0</td>\n      <td>0.0</td>\n    </tr>\n    <tr>\n      <th>75%</th>\n      <td>3.060000e+02</td>\n      <td>0.000000e+00</td>\n      <td>0.000000e+00</td>\n      <td>0.0</td>\n      <td>0.0</td>\n      <td>0.0</td>\n    </tr>\n    <tr>\n      <th>max</th>\n      <td>4.620000e+03</td>\n      <td>2.327000e+03</td>\n      <td>2.987000e+03</td>\n      <td>0.0</td>\n      <td>0.0</td>\n      <td>0.0</td>\n    </tr>\n  </tbody>\n</table>\n</div>"
     },
     "execution_count": 12,
     "metadata": {},
     "output_type": "execute_result"
    }
   ],
   "source": [
    "pairs.describe()"
   ],
   "metadata": {
    "collapsed": false,
    "pycharm": {
     "name": "#%%\n"
    }
   }
  },
  {
   "cell_type": "code",
   "execution_count": 13,
   "outputs": [],
   "source": [
    "# todo join with unp ids and find out the distribution in groups.\n",
    "# if same as potential pairs or not.\n",
    "chains = pd.read_json('/home/adam/pschool/bakalarka/apo-holo-protein-structure-stats/o_groups.json')\n",
    "pairs = pairs.merge(chains.set_index(['pdb_code', 'chain_id']), left_on=['pdb_code_apo', 'chain_id_apo'], right_index=True)"
   ],
   "metadata": {
    "collapsed": false,
    "pycharm": {
     "name": "#%%\n"
    }
   }
  },
  {
   "cell_type": "code",
   "execution_count": 14,
   "outputs": [
    {
     "data": {
      "text/plain": "Index(['pdb_code_apo', 'chain_id_apo', 'pdb_code_holo', 'chain_id_holo',\n       'lcs_result.length', 'lcs_result.i1', 'lcs_result.i2',\n       'lcs_result.mismatches', 'lcs_result.leading_mismatches',\n       'lcs_result.trailing_mismatches', 'uniprotkb_id', 'uniprot_group_size'],\n      dtype='object')"
     },
     "execution_count": 14,
     "metadata": {},
     "output_type": "execute_result"
    }
   ],
   "source": [
    "pairs.columns"
   ],
   "metadata": {
    "collapsed": false,
    "pycharm": {
     "name": "#%%\n"
    }
   }
  },
  {
   "cell_type": "code",
   "execution_count": 15,
   "outputs": [
    {
     "data": {
      "text/plain": "count      6893.000000\nmean        164.521399\nstd        3239.701243\nmin           1.000000\n25%           2.000000\n50%           6.000000\n75%          18.000000\nmax      167995.000000\ndtype: float64"
     },
     "execution_count": 15,
     "metadata": {},
     "output_type": "execute_result"
    }
   ],
   "source": [
    "pairs_per_group = pairs.groupby('uniprotkb_id').size()\n",
    "pairs_per_group.describe()"
   ],
   "metadata": {
    "collapsed": false,
    "pycharm": {
     "name": "#%%\n"
    }
   }
  },
  {
   "cell_type": "markdown",
   "source": [
    "Z hlediska cachování modelů by mě zajímalo, kolikrát maximálně (a průměrně) v párech figuruje jedna struktura. (A všechno jsou ekvivalence/je to tranzitivní? Nutně nemusí, jde-li o jiné úseky třeba, ale většinou jo, je-li tam nějaký překryv, je to implikováno, ale? - počítám a1, a2 k h1 a pak vezmeš h2, která je na a1, je taky k a2? Za předpokladu, že mají LCS(a1, h1) a LCS(a1, h2) nějaký překryv.\n",
    "\n",
    "No každopádně -- udělej groupby struktura sizes... (ani nemusíš myslim podle uniprotu)\n",
    "\n",
    "Dalo by se to dělat takto\n",
    "- načíst vždy 5 apo a k nim vystridat 5 holo, dalsich 5 holo,...\n",
    "    - 25 párů a pouze 5 načítání -> 5x reduction in parsing structures time\n",
    "\n",
    "A když jsme u zrychlování - nemusím načítat nebo aspoň držet v paměti celou strukturu, když mi stačí chain (nebo ty set_of_residues)\n",
    "- samozřejmě biopython má reference i nahoru, takže bych ten chain musel disconnectnout, pokud chci pracovat s residues objekty (a ne treba jenom c alpha coords)\n",
    "    - na to c alpha coords bych si mohl koneckonců napsat parser sám,... ale to už ne (potřebuju všechny atomy, pro interface, ne jen calpha..)\n",
    "    - no ale dalo by se to udelat megaefektivne - jenom coords v numpy a treba indices AAs/ atom typy\n",
    "    - asi musim prijmout, ze to neni efektivni a pouzivam to...\n",
    "    - kazdopadne, chain bych disconnectnout mohl?"
   ],
   "metadata": {
    "collapsed": false
   }
  },
  {
   "cell_type": "code",
   "execution_count": 16,
   "outputs": [],
   "source": [
    "from typing import List\n",
    "\n",
    "\n",
    "def total_when_clipped(upper_clips: List[float], group_counts, ax=None, color='r', label='counts'):\n",
    "\n",
    "    def find_nearest_idx(array, value):\n",
    "        return (np.abs(array - value)).argmin()\n",
    "\n",
    "    ecdf_y, ecdf_x = np.sort(group_counts.to_numpy()), np.linspace(0, 1, len(group_counts), endpoint=False)\n",
    "\n",
    "    for clip in upper_clips:\n",
    "        if ax:\n",
    "            ax.axvline(clip, c=color, lw=0.5)\n",
    "        ecdf_val = ecdf_x[find_nearest_idx(ecdf_y, clip)]\n",
    "        print('clip:', clip, f'{label}:', group_counts.clip(upper=clip).sum(), 'ecdf: ', f'{ecdf_val:.4f}')\n",
    "\n"
   ],
   "metadata": {
    "collapsed": false,
    "pycharm": {
     "name": "#%%\n"
    }
   }
  },
  {
   "cell_type": "code",
   "execution_count": 17,
   "outputs": [
    {
     "name": "stdout",
     "output_type": "stream",
     "text": [
      "# apo\n",
      "count    36452.000000\n",
      "mean        31.110666\n",
      "std         66.606124\n",
      "min          1.000000\n",
      "25%          2.000000\n",
      "50%          6.000000\n",
      "75%         22.000000\n",
      "max        613.000000\n",
      "dtype: float64\n",
      "clip: 5 total pairs cached: 133423 ecdf:  0.4595\n",
      "clip: 10 total pairs cached: 213401 ecdf:  0.6136\n",
      "clip: 50 total pairs cached: 539586 ecdf:  0.8423\n",
      "clip: inf total pairs cached: 1134046 ecdf:  0.0000\n",
      "# holo\n",
      "count    58464.000000\n",
      "mean        19.397339\n",
      "std         73.000867\n",
      "min          1.000000\n",
      "25%          2.000000\n",
      "50%          4.000000\n",
      "75%          9.000000\n",
      "max        749.000000\n",
      "dtype: float64\n",
      "clip: 5 total pairs cached: 193817 ecdf:  0.5793\n",
      "clip: 10 total pairs cached: 284642 ecdf:  0.7518\n",
      "clip: 50 total pairs cached: 567494 ecdf:  0.9239\n",
      "clip: inf total pairs cached: 1134046 ecdf:  0.0000\n"
     ]
    },
    {
     "data": {
      "text/plain": "Text(0.5, 1.0, '# pairs per structure')"
     },
     "execution_count": 17,
     "metadata": {},
     "output_type": "execute_result"
    },
    {
     "data": {
      "text/plain": "<Figure size 432x288 with 1 Axes>",
      "image/png": "[encoded data removed]"
     },
     "metadata": {
      "needs_background": "light"
     },
     "output_type": "display_data"
    }
   ],
   "source": [
    "colors = iter(sns.color_palette())\n",
    "for a_or_h in ('apo', 'holo'):\n",
    "    print('#', a_or_h)\n",
    "    pairs_per_apo = pairs.groupby([f'pdb_code_{a_or_h}', f'chain_id_{a_or_h}']).size()\n",
    "    print(pairs_per_apo.describe())\n",
    "    ax = sns.ecdfplot(pairs_per_apo, label=a_or_h)\n",
    "    ax.yaxis.set_major_locator(ticker.MultipleLocator(0.05))\n",
    "\n",
    "    total_when_clipped([5, 10, 50, np.inf], pairs_per_apo, ax=ax, color=next(colors), label='total pairs cached')\n",
    "plt.grid()\n",
    "ax.legend()\n",
    "plt.title('# pairs per structure')\n",
    "\n"
   ],
   "metadata": {
    "collapsed": false,
    "pycharm": {
     "name": "#%%\n"
    }
   }
  },
  {
   "cell_type": "code",
   "execution_count": 18,
   "outputs": [
    {
     "name": "stdout",
     "output_type": "stream",
     "text": [
      "count    36452.000000\n",
      "mean        31.110666\n",
      "std         66.606124\n",
      "min          1.000000\n",
      "25%          2.000000\n",
      "50%          6.000000\n",
      "75%         22.000000\n",
      "max        613.000000\n",
      "dtype: float64\n"
     ]
    },
    {
     "data": {
      "text/plain": "<Figure size 432x288 with 1 Axes>",
      "image/png": "[encoded data removed]"
     },
     "metadata": {
      "needs_background": "light"
     },
     "output_type": "display_data"
    }
   ],
   "source": [
    "pairs_per_apo = pairs.groupby(['pdb_code_apo', 'chain_id_apo']).size()\n",
    "print(pairs_per_apo.describe())\n",
    "ax = sns.ecdfplot(pairs_per_apo)\n",
    "ax.yaxis.set_major_locator(ticker.MultipleLocator(0.05))\n",
    "plt.grid()"
   ],
   "metadata": {
    "collapsed": false,
    "pycharm": {
     "name": "#%%\n"
    }
   }
  },
  {
   "cell_type": "code",
   "execution_count": 19,
   "outputs": [
    {
     "name": "stdout",
     "output_type": "stream",
     "text": [
      "clip: 10 pairs: 41116 ecdf:  0.6308\n",
      "clip: 100 pairs: 131669 ecdf:  0.9198\n",
      "clip: 200 pairs: 174086 ecdf:  0.9514\n",
      "clip: 1700 pairs: 356659 ecdf:  0.9903\n",
      "clip: inf pairs: 1134046 ecdf:  0.0000\n"
     ]
    },
    {
     "data": {
      "text/plain": "<Figure size 432x288 with 1 Axes>",
      "image/png": "[encoded data removed]"
     },
     "metadata": {
      "needs_background": "light"
     },
     "output_type": "display_data"
    }
   ],
   "source": [
    "\n",
    "from matplotlib import pyplot as plt, ticker\n",
    "import numpy as np\n",
    "import seaborn as sns\n",
    "\n",
    "ax = sns.ecdfplot(pairs_per_group)\n",
    "ax.set(xlim=(0, 1500))\n",
    "plt.grid()\n",
    "ax.yaxis.set_major_locator(ticker.MultipleLocator(0.05))\n",
    "\n",
    "upper_clip = [10, 100, 200, 1700, np.inf]\n",
    "\n",
    "def find_nearest_idx(array, value):\n",
    "    return (np.abs(array - value)).argmin()\n",
    "\n",
    "ecdf_y, ecdf_x = np.sort(pairs_per_group.to_numpy()), np.linspace(0, 1, len(pairs_per_group), endpoint=False)\n",
    "\n",
    "\n",
    "for clip in upper_clip:\n",
    "    ax.axvline(clip, c='r', lw=0.5)\n",
    "    ecdf_val = ecdf_x[find_nearest_idx(ecdf_y, clip)]\n",
    "    print('clip:', clip, 'pairs:', pairs_per_group.clip(upper=clip).sum(), 'ecdf: ', f'{ecdf_val:.4f}')\n"
   ],
   "metadata": {
    "collapsed": false,
    "pycharm": {
     "name": "#%%\n"
    }
   }
  },
  {
   "cell_type": "code",
   "execution_count": 20,
   "outputs": [
    {
     "data": {
      "text/plain": "[(0.0, 30.0)]"
     },
     "execution_count": 20,
     "metadata": {},
     "output_type": "execute_result"
    },
    {
     "data": {
      "text/plain": "<Figure size 432x288 with 1 Axes>",
      "image/png": "[encoded data removed]"
     },
     "metadata": {
      "needs_background": "light"
     },
     "output_type": "display_data"
    }
   ],
   "source": [
    "# musel jsem to zkopirovat, nevim, jak to zobrazit znova s jinym xlim\n",
    "ax = sns.ecdfplot(pairs_per_group)\n",
    "plt.axhline(np.max(ax.lines[0].get_ydata()))\n",
    "plt.grid()\n",
    "ax.yaxis.set_major_locator(ticker.MultipleLocator(0.05))\n",
    "ax.set(xlim=(0, 30))"
   ],
   "metadata": {
    "collapsed": false,
    "pycharm": {
     "name": "#%%\n"
    }
   }
  },
  {
   "cell_type": "markdown",
   "source": [
    "## Run analyses"
   ],
   "metadata": {
    "collapsed": false
   }
  },
  {
   "cell_type": "code",
   "execution_count": null,
   "outputs": [],
   "source": [],
   "metadata": {
    "collapsed": false,
    "pycharm": {
     "name": "#%%\n"
    }
   }
  },
  {
   "cell_type": "markdown",
   "source": [
    "---\n",
    "### Just debugging memory usage"
   ],
   "metadata": {
    "collapsed": false
   }
  },
  {
   "cell_type": "code",
   "execution_count": 21,
   "outputs": [
    {
     "data": {
      "text/plain": "Index                                  128\npdb_code_apo                      23785904\nchain_id_apo                      23785904\npdb_code_holo                     23785904\nchain_id_holo                     23785904\nlcs_result.length                 23785904\nlcs_result.i1                     23785904\nlcs_result.i2                     23785904\nlcs_result.mismatches             23785904\nlcs_result.leading_mismatches     23785904\nlcs_result.trailing_mismatches    23785904\ndtype: int64"
     },
     "execution_count": 21,
     "metadata": {},
     "output_type": "execute_result"
    }
   ],
   "source": [
    "potential_pairs.memory_usage()\n",
    "# 120 MB plus data (strings and lcs_results), how can that be 4 GB? When the json is 600 MB...\n",
    "# string 53 bytes ~ 50 bytes (empty 49)\n",
    "# lcs result 6 ints -> 48 bytes -> 3M * 0.1 kB = 0.3 GB, 40 bytes empty tuple\n",
    "#     88 bytes if tuple\n",
    "# but it's a dict! with non-interned strings :(((( wtf.."
   ],
   "metadata": {
    "collapsed": false,
    "pycharm": {
     "name": "#%%\n"
    }
   }
  },
  {
   "cell_type": "code",
   "execution_count": 22,
   "outputs": [
    {
     "ename": "AttributeError",
     "evalue": "'DataFrame' object has no attribute 'mismatches'",
     "output_type": "error",
     "traceback": [
      "\u001B[0;31m---------------------------------------------------------------------------\u001B[0m",
      "\u001B[0;31mAttributeError\u001B[0m                            Traceback (most recent call last)",
      "\u001B[0;32m/tmp/ipykernel_1576103/3181958064.py\u001B[0m in \u001B[0;36m<module>\u001B[0;34m\u001B[0m\n\u001B[1;32m      1\u001B[0m \u001B[0;31m# print(potential_pairs.describe())\u001B[0m\u001B[0;34m\u001B[0m\u001B[0;34m\u001B[0m\u001B[0;34m\u001B[0m\u001B[0m\n\u001B[0;32m----> 2\u001B[0;31m \u001B[0mpairs\u001B[0m \u001B[0;34m=\u001B[0m \u001B[0mpotential_pairs\u001B[0m\u001B[0;34m[\u001B[0m\u001B[0mpotential_pairs\u001B[0m\u001B[0;34m.\u001B[0m\u001B[0mmismatches\u001B[0m \u001B[0;34m==\u001B[0m \u001B[0;36m0\u001B[0m\u001B[0;34m]\u001B[0m\u001B[0;34m\u001B[0m\u001B[0;34m\u001B[0m\u001B[0m\n\u001B[0m\u001B[1;32m      3\u001B[0m \u001B[0mprint\u001B[0m\u001B[0;34m(\u001B[0m\u001B[0mlen\u001B[0m\u001B[0;34m(\u001B[0m\u001B[0mpairs\u001B[0m\u001B[0;34m)\u001B[0m\u001B[0;34m)\u001B[0m\u001B[0;34m\u001B[0m\u001B[0;34m\u001B[0m\u001B[0m\n\u001B[1;32m      4\u001B[0m \u001B[0mpairs\u001B[0m\u001B[0;34m.\u001B[0m\u001B[0mdescribe\u001B[0m\u001B[0;34m(\u001B[0m\u001B[0;34m)\u001B[0m\u001B[0;34m\u001B[0m\u001B[0;34m\u001B[0m\u001B[0m\n",
      "\u001B[0;32m~/pschool/bakalarka/apo-holo-protein-structure-stats/venv/lib/python3.8/site-packages/pandas/core/generic.py\u001B[0m in \u001B[0;36m__getattr__\u001B[0;34m(self, name)\u001B[0m\n\u001B[1;32m   5485\u001B[0m         ):\n\u001B[1;32m   5486\u001B[0m             \u001B[0;32mreturn\u001B[0m \u001B[0mself\u001B[0m\u001B[0;34m[\u001B[0m\u001B[0mname\u001B[0m\u001B[0;34m]\u001B[0m\u001B[0;34m\u001B[0m\u001B[0;34m\u001B[0m\u001B[0m\n\u001B[0;32m-> 5487\u001B[0;31m         \u001B[0;32mreturn\u001B[0m \u001B[0mobject\u001B[0m\u001B[0;34m.\u001B[0m\u001B[0m__getattribute__\u001B[0m\u001B[0;34m(\u001B[0m\u001B[0mself\u001B[0m\u001B[0;34m,\u001B[0m \u001B[0mname\u001B[0m\u001B[0;34m)\u001B[0m\u001B[0;34m\u001B[0m\u001B[0;34m\u001B[0m\u001B[0m\n\u001B[0m\u001B[1;32m   5488\u001B[0m \u001B[0;34m\u001B[0m\u001B[0m\n\u001B[1;32m   5489\u001B[0m     \u001B[0;32mdef\u001B[0m \u001B[0m__setattr__\u001B[0m\u001B[0;34m(\u001B[0m\u001B[0mself\u001B[0m\u001B[0;34m,\u001B[0m \u001B[0mname\u001B[0m\u001B[0;34m:\u001B[0m \u001B[0mstr\u001B[0m\u001B[0;34m,\u001B[0m \u001B[0mvalue\u001B[0m\u001B[0;34m)\u001B[0m \u001B[0;34m->\u001B[0m \u001B[0;32mNone\u001B[0m\u001B[0;34m:\u001B[0m\u001B[0;34m\u001B[0m\u001B[0;34m\u001B[0m\u001B[0m\n",
      "\u001B[0;31mAttributeError\u001B[0m: 'DataFrame' object has no attribute 'mismatches'"
     ]
    }
   ],
   "source": [
    "# print(potential_pairs.describe())\n",
    "pairs = potential_pairs[potential_pairs.mismatches == 0]\n",
    "print(len(pairs))\n",
    "pairs.describe()"
   ],
   "metadata": {
    "collapsed": false,
    "pycharm": {
     "name": "#%%\n"
    }
   }
  },
  {
   "cell_type": "code",
   "execution_count": null,
   "outputs": [],
   "source": [
    "import gc\n",
    "gc.collect()"
   ],
   "metadata": {
    "collapsed": false,
    "pycharm": {
     "name": "#%%\n"
    }
   }
  },
  {
   "cell_type": "code",
   "execution_count": null,
   "outputs": [],
   "source": [
    "potential_pairs.columns\n"
   ],
   "metadata": {
    "collapsed": false,
    "pycharm": {
     "name": "#%%\n"
    }
   }
  },
  {
   "cell_type": "code",
   "execution_count": null,
   "outputs": [],
   "source": [
    "df = pd.json_normalize('/home/adam/pschool/bakalarka/apo-holo-protein-structure-stats/o_make_pairs_lcs')"
   ],
   "metadata": {
    "collapsed": false,
    "pycharm": {
     "name": "#%%\n"
    }
   }
  },
  {
   "cell_type": "code",
   "execution_count": null,
   "outputs": [],
   "source": [
    "from collections import defaultdict\n",
    "\n",
    "json_filename = '/home/adam/pschool/bakalarka/apo-holo-protein-structure-stats/o_make_pairs_lcs'\n",
    "with open(json_filename) as f:\n",
    "    # items = []\n",
    "    #\n",
    "    # def intern_dict_keys(obj):\n",
    "    #     interned_keys_obj = {}\n",
    "    #     for k, v in obj.items():\n",
    "    #         # k = sys.intern(k)\n",
    "    #         interned_keys_obj[k] = v\n",
    "    #\n",
    "    #     global items\n",
    "    #     items.append(interned_keys_obj)\n",
    "    #     if len(items) == 10:\n",
    "    #         items_by_len = defaultdict(list)\n",
    "    #         for i in items:\n",
    "    #             items_by_len[len(i)].append(i)\n",
    "    #\n",
    "    #         print(list(items_by_len.keys()))\n",
    "    #         for items in items_by_len.values():\n",
    "    #             for corr_keys in zip(*items):\n",
    "    #                 for i in range(len(corr_keys)-1):\n",
    "    #                     print(corr_keys[i] is corr_keys[i+1])\n",
    "    #\n",
    "    #     return interned_keys_obj\n",
    "    # careful not to keep reference to loaded json\n",
    "    potential_pairs = pd.json_normalize(json.load(f))\n"
   ],
   "metadata": {
    "collapsed": false,
    "pycharm": {
     "name": "#%%\n"
    }
   }
  },
  {
   "cell_type": "code",
   "execution_count": null,
   "outputs": [],
   "source": [
    "print(potential_pairs.memory_usage())\n"
   ],
   "metadata": {
    "collapsed": false,
    "pycharm": {
     "name": "#%%\n"
    }
   }
  },
  {
   "cell_type": "code",
   "execution_count": null,
   "outputs": [],
   "source": [],
   "metadata": {
    "collapsed": false,
    "pycharm": {
     "name": "#%%\n"
    }
   }
  },
  {
   "cell_type": "code",
   "execution_count": null,
   "outputs": [],
   "source": [
    "gc.collect()\n"
   ],
   "metadata": {
    "collapsed": false,
    "pycharm": {
     "name": "#%%\n"
    }
   }
  },
  {
   "cell_type": "code",
   "execution_count": null,
   "outputs": [],
   "source": [
    "import gc\n",
    "potential_pairs = potential_pairs.drop(columns='chain_id_holo')\n",
    "potential_pairs = potential_pairs.drop(columns='chain_id_apo')\n"
   ],
   "metadata": {
    "collapsed": false,
    "pycharm": {
     "name": "#%%\n"
    }
   }
  },
  {
   "cell_type": "code",
   "execution_count": null,
   "outputs": [],
   "source": [
    "print(potential_pairs.memory_usage())"
   ],
   "metadata": {
    "collapsed": false,
    "pycharm": {
     "name": "#%%\n"
    }
   }
  },
  {
   "cell_type": "code",
   "execution_count": null,
   "outputs": [],
   "source": [
    "potential_pairs= []\n",
    "gc.collect()\n"
   ],
   "metadata": {
    "collapsed": false,
    "pycharm": {
     "name": "#%%\n"
    }
   }
  },
  {
   "cell_type": "markdown",
   "source": [],
   "metadata": {
    "collapsed": false
   }
  },
  {
   "cell_type": "code",
   "execution_count": null,
   "outputs": [],
   "source": [],
   "metadata": {
    "collapsed": false,
    "pycharm": {
     "name": "#%%\n"
    }
   }
  }
 ],
 "metadata": {
  "kernelspec": {
   "display_name": "Python 3",
   "language": "python",
   "name": "python3"
  },
  "language_info": {
   "codemirror_mode": {
    "name": "ipython",
    "version": 2
   },
   "file_extension": ".py",
   "mimetype": "text/x-python",
   "name": "python",
   "nbconvert_exporter": "python",
   "pygments_lexer": "ipython2",
   "version": "2.7.6"
  }
 },
 "nbformat": 4,
 "nbformat_minor": 0
}